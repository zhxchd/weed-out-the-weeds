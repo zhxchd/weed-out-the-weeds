{
 "cells": [
  {
   "cell_type": "markdown",
   "metadata": {},
   "source": [
    "# Deep learning with vanilla CNN\n",
    "\n",
    "By Zhu Xiaochen (A0194512H)\n",
    "\n",
    "In this notebook, we test the vanilla application of convolutional neural networks in image classification and we observe the vanishing gradient problem."
   ]
  },
  {
   "cell_type": "code",
   "execution_count": 1,
   "metadata": {},
   "outputs": [],
   "source": [
    "import matplotlib.pyplot as plt\n",
    "import numpy as np\n",
    "import tensorflow as tf\n",
    "import tensorflow_datasets as tfds\n",
    "from tensorflow import keras\n",
    "from keras import layers"
   ]
  },
  {
   "cell_type": "code",
   "execution_count": 2,
   "metadata": {},
   "outputs": [],
   "source": [
    "data_train = tfds.load(\"deep_weeds\", with_info=False, split='train[20%:100%]').take(800)#.filter(lambda x: x['label'] != 8).take(800)\n",
    "data_valid  = tfds.load(\"deep_weeds\", with_info=False, split='train[0%:20%]').take(200)#.filter(lambda x: x['label'] != 8).take(160)"
   ]
  },
  {
   "cell_type": "code",
   "execution_count": 3,
   "metadata": {},
   "outputs": [],
   "source": [
    "import math\n",
    "\n",
    "def preprocess(dict):\n",
    "  processed_image = dict['image'] / 255\n",
    "  processed_label = dict['label']\n",
    "  return processed_image, processed_label\n",
    "\n",
    "# Use the batch method to prepare batches.\n",
    "train_ds = (data_train\n",
    "                .map(preprocess)\n",
    "                .cache()\n",
    "                .batch(32)\n",
    "                .prefetch(tf.data.experimental.AUTOTUNE))\n",
    "\n",
    "valid_ds = data_valid.map(preprocess).cache().batch(32)"
   ]
  },
  {
   "cell_type": "markdown",
   "metadata": {},
   "source": [
    "## A neural network model with convolutional layers"
   ]
  },
  {
   "cell_type": "code",
   "execution_count": 4,
   "metadata": {},
   "outputs": [],
   "source": [
    "from tensorflow import keras\n",
    "from tensorflow.keras import layers\n",
    "\n",
    "num_classes = 9\n",
    "\n",
    "model = keras.models.Sequential([\n",
    "  layers.Conv2D(32, 3, padding='same', activation='relu'),\n",
    "  layers.MaxPooling2D(),\n",
    "  layers.Conv2D(64, 3, padding='same', activation='relu'),\n",
    "  layers.MaxPooling2D(),\n",
    "  layers.Conv2D(128, 3, padding='same', activation='relu'),\n",
    "  layers.MaxPooling2D(),\n",
    "  layers.Flatten(),\n",
    "  layers.Dense(256, activation='relu'),\n",
    "  layers.Dense(num_classes, activation=\"softmax\")\n",
    "])\n",
    "\n",
    "model.compile(\n",
    "    optimizer=keras.optimizers.Adam(0.0001),\n",
    "    loss=\"sparse_categorical_crossentropy\",\n",
    "    metrics=[\"accuracy\"],\n",
    ")"
   ]
  },
  {
   "cell_type": "code",
   "execution_count": 5,
   "metadata": {},
   "outputs": [
    {
     "name": "stdout",
     "output_type": "stream",
     "text": [
      "Epoch 1/50\n",
      "25/25 [==============================] - 6s 81ms/step - loss: 1.7071 - accuracy: 0.5113 - val_loss: 1.5836 - val_accuracy: 0.5400\n",
      "Epoch 2/50\n",
      "25/25 [==============================] - 2s 65ms/step - loss: 1.5073 - accuracy: 0.5425 - val_loss: 1.5642 - val_accuracy: 0.5500\n",
      "Epoch 3/50\n",
      "25/25 [==============================] - 2s 66ms/step - loss: 1.3985 - accuracy: 0.5475 - val_loss: 1.4765 - val_accuracy: 0.5450\n",
      "Epoch 4/50\n",
      "25/25 [==============================] - 2s 65ms/step - loss: 1.2963 - accuracy: 0.5638 - val_loss: 1.4649 - val_accuracy: 0.5350\n",
      "Epoch 5/50\n",
      "25/25 [==============================] - 2s 66ms/step - loss: 1.1968 - accuracy: 0.6175 - val_loss: 1.4662 - val_accuracy: 0.5400\n",
      "Epoch 6/50\n",
      "25/25 [==============================] - 2s 66ms/step - loss: 1.0463 - accuracy: 0.6637 - val_loss: 1.4658 - val_accuracy: 0.5250\n",
      "Epoch 7/50\n",
      "25/25 [==============================] - 2s 66ms/step - loss: 0.8777 - accuracy: 0.7325 - val_loss: 1.4983 - val_accuracy: 0.5200\n",
      "Epoch 8/50\n",
      "25/25 [==============================] - 2s 66ms/step - loss: 0.7026 - accuracy: 0.7937 - val_loss: 1.5509 - val_accuracy: 0.5300\n",
      "Epoch 9/50\n",
      "25/25 [==============================] - 2s 67ms/step - loss: 0.5374 - accuracy: 0.8525 - val_loss: 1.6075 - val_accuracy: 0.5400\n",
      "Epoch 10/50\n",
      "25/25 [==============================] - 2s 67ms/step - loss: 0.4049 - accuracy: 0.9075 - val_loss: 1.5822 - val_accuracy: 0.5350\n",
      "Epoch 11/50\n",
      "25/25 [==============================] - 2s 66ms/step - loss: 0.3350 - accuracy: 0.9287 - val_loss: 1.4835 - val_accuracy: 0.5350\n",
      "Epoch 12/50\n",
      "25/25 [==============================] - 2s 66ms/step - loss: 0.3982 - accuracy: 0.8825 - val_loss: 1.5241 - val_accuracy: 0.5300\n",
      "Epoch 13/50\n",
      "25/25 [==============================] - 2s 67ms/step - loss: 0.2897 - accuracy: 0.9350 - val_loss: 1.5835 - val_accuracy: 0.5150\n",
      "Epoch 14/50\n",
      "25/25 [==============================] - 2s 67ms/step - loss: 0.2222 - accuracy: 0.9513 - val_loss: 1.6815 - val_accuracy: 0.4900\n",
      "Epoch 15/50\n",
      "25/25 [==============================] - 2s 67ms/step - loss: 0.2494 - accuracy: 0.9300 - val_loss: 2.2117 - val_accuracy: 0.3950\n",
      "Epoch 16/50\n",
      "25/25 [==============================] - 2s 66ms/step - loss: 0.2947 - accuracy: 0.9050 - val_loss: 1.6332 - val_accuracy: 0.5250\n",
      "Epoch 17/50\n",
      "25/25 [==============================] - 2s 66ms/step - loss: 0.1483 - accuracy: 0.9775 - val_loss: 1.7507 - val_accuracy: 0.5550\n",
      "Epoch 18/50\n",
      "25/25 [==============================] - 2s 67ms/step - loss: 0.0680 - accuracy: 0.9962 - val_loss: 1.6782 - val_accuracy: 0.5350\n",
      "Epoch 19/50\n",
      "25/25 [==============================] - 2s 67ms/step - loss: 0.0523 - accuracy: 0.9962 - val_loss: 1.8135 - val_accuracy: 0.5400\n",
      "Epoch 20/50\n",
      "25/25 [==============================] - 2s 67ms/step - loss: 0.0377 - accuracy: 0.9987 - val_loss: 1.7057 - val_accuracy: 0.5550\n",
      "Epoch 21/50\n",
      "25/25 [==============================] - 2s 67ms/step - loss: 0.0292 - accuracy: 0.9987 - val_loss: 1.7649 - val_accuracy: 0.5200\n",
      "Epoch 22/50\n",
      "25/25 [==============================] - 2s 67ms/step - loss: 0.0224 - accuracy: 1.0000 - val_loss: 1.8177 - val_accuracy: 0.5300\n",
      "Epoch 23/50\n",
      "25/25 [==============================] - 2s 68ms/step - loss: 0.0183 - accuracy: 1.0000 - val_loss: 1.8918 - val_accuracy: 0.5350\n",
      "Epoch 24/50\n",
      "25/25 [==============================] - 2s 67ms/step - loss: 0.0154 - accuracy: 1.0000 - val_loss: 1.9743 - val_accuracy: 0.5450\n",
      "Epoch 25/50\n",
      "25/25 [==============================] - 2s 67ms/step - loss: 0.0129 - accuracy: 1.0000 - val_loss: 2.0582 - val_accuracy: 0.5350\n",
      "Epoch 26/50\n",
      "25/25 [==============================] - 2s 67ms/step - loss: 0.0107 - accuracy: 1.0000 - val_loss: 2.1028 - val_accuracy: 0.5300\n",
      "Epoch 27/50\n",
      "25/25 [==============================] - 2s 67ms/step - loss: 0.0091 - accuracy: 1.0000 - val_loss: 2.1699 - val_accuracy: 0.5300\n",
      "Epoch 28/50\n",
      "25/25 [==============================] - 2s 67ms/step - loss: 0.0085 - accuracy: 1.0000 - val_loss: 2.2590 - val_accuracy: 0.5350\n",
      "Epoch 29/50\n",
      "25/25 [==============================] - 2s 68ms/step - loss: 0.0079 - accuracy: 1.0000 - val_loss: 2.3296 - val_accuracy: 0.5350\n",
      "Epoch 30/50\n",
      "25/25 [==============================] - 2s 68ms/step - loss: 0.0073 - accuracy: 1.0000 - val_loss: 2.3854 - val_accuracy: 0.5350\n",
      "Epoch 31/50\n",
      "25/25 [==============================] - 2s 68ms/step - loss: 0.0068 - accuracy: 1.0000 - val_loss: 2.4563 - val_accuracy: 0.5350\n",
      "Epoch 32/50\n",
      "25/25 [==============================] - 2s 68ms/step - loss: 0.0065 - accuracy: 1.0000 - val_loss: 2.5257 - val_accuracy: 0.5350\n",
      "Epoch 33/50\n",
      "25/25 [==============================] - 2s 68ms/step - loss: 0.0062 - accuracy: 1.0000 - val_loss: 2.5888 - val_accuracy: 0.5350\n",
      "Epoch 34/50\n",
      "25/25 [==============================] - 2s 68ms/step - loss: 0.0060 - accuracy: 1.0000 - val_loss: 2.6556 - val_accuracy: 0.5350\n",
      "Epoch 35/50\n",
      "25/25 [==============================] - 2s 67ms/step - loss: 0.0058 - accuracy: 1.0000 - val_loss: 2.7184 - val_accuracy: 0.5350\n",
      "Epoch 36/50\n",
      "25/25 [==============================] - 2s 68ms/step - loss: 0.0056 - accuracy: 1.0000 - val_loss: 2.7790 - val_accuracy: 0.5350\n",
      "Epoch 37/50\n",
      "25/25 [==============================] - 2s 67ms/step - loss: 0.0054 - accuracy: 1.0000 - val_loss: 2.8342 - val_accuracy: 0.5400\n",
      "Epoch 38/50\n",
      "25/25 [==============================] - 2s 68ms/step - loss: 0.0053 - accuracy: 1.0000 - val_loss: 2.8832 - val_accuracy: 0.5400\n",
      "Epoch 39/50\n",
      "25/25 [==============================] - 2s 68ms/step - loss: 0.0051 - accuracy: 1.0000 - val_loss: 2.9184 - val_accuracy: 0.5400\n",
      "Epoch 40/50\n",
      "25/25 [==============================] - 2s 68ms/step - loss: 0.0050 - accuracy: 1.0000 - val_loss: 2.9403 - val_accuracy: 0.5400\n",
      "Epoch 41/50\n",
      "25/25 [==============================] - 2s 69ms/step - loss: 0.0049 - accuracy: 1.0000 - val_loss: 2.9184 - val_accuracy: 0.5400\n",
      "Epoch 42/50\n",
      "25/25 [==============================] - 2s 67ms/step - loss: 0.0047 - accuracy: 1.0000 - val_loss: 2.8205 - val_accuracy: 0.5350\n",
      "Epoch 43/50\n",
      "25/25 [==============================] - 2s 68ms/step - loss: 0.0046 - accuracy: 1.0000 - val_loss: 2.6695 - val_accuracy: 0.5400\n",
      "Epoch 44/50\n",
      "25/25 [==============================] - 2s 67ms/step - loss: 0.0044 - accuracy: 1.0000 - val_loss: 2.5477 - val_accuracy: 0.5400\n",
      "Epoch 45/50\n",
      "25/25 [==============================] - 2s 68ms/step - loss: 0.0042 - accuracy: 1.0000 - val_loss: 2.4374 - val_accuracy: 0.5400\n",
      "Epoch 46/50\n",
      "25/25 [==============================] - 2s 68ms/step - loss: 0.0038 - accuracy: 1.0000 - val_loss: 2.2837 - val_accuracy: 0.5400\n",
      "Epoch 47/50\n",
      "25/25 [==============================] - 2s 67ms/step - loss: 0.0033 - accuracy: 1.0000 - val_loss: 2.1301 - val_accuracy: 0.5450\n",
      "Epoch 48/50\n",
      "25/25 [==============================] - 2s 68ms/step - loss: 0.0026 - accuracy: 1.0000 - val_loss: 2.0556 - val_accuracy: 0.5250\n",
      "Epoch 49/50\n",
      "25/25 [==============================] - 2s 67ms/step - loss: 0.0020 - accuracy: 1.0000 - val_loss: 2.0664 - val_accuracy: 0.5250\n",
      "Epoch 50/50\n",
      "25/25 [==============================] - 2s 69ms/step - loss: 0.0016 - accuracy: 1.0000 - val_loss: 2.1341 - val_accuracy: 0.5450\n"
     ]
    }
   ],
   "source": [
    "log = model.fit(\n",
    "    train_ds, epochs=50, validation_data=valid_ds,\n",
    ")"
   ]
  },
  {
   "cell_type": "code",
   "execution_count": 7,
   "metadata": {},
   "outputs": [
    {
     "data": {
      "image/png": "[encoded data removed]",
      "text/plain": [
       "<Figure size 432x288 with 1 Axes>"
      ]
     },
     "metadata": {
      "needs_background": "light"
     },
     "output_type": "display_data"
    },
    {
     "data": {
      "image/png": "[encoded data removed]",
      "text/plain": [
       "<Figure size 432x288 with 1 Axes>"
      ]
     },
     "metadata": {
      "needs_background": "light"
     },
     "output_type": "display_data"
    }
   ],
   "source": [
    "plt.plot(log.history['accuracy'])\n",
    "plt.plot(log.history['val_accuracy'])\n",
    "plt.title('model accuracy: vanilla CNN')\n",
    "plt.ylabel('accuracy')\n",
    "plt.xlabel('epoch')\n",
    "plt.legend(['train', 'val'], loc='upper left')\n",
    "plt.show()\n",
    "\n",
    "plt.plot(log.history['loss'])\n",
    "plt.plot(log.history['val_loss'])\n",
    "plt.title('model loss: vanilla CNN')\n",
    "plt.ylabel('loss')\n",
    "plt.xlabel('epoch')\n",
    "plt.legend(['train', 'val'], loc='upper left')\n",
    "plt.show()"
   ]
  },
  {
   "cell_type": "markdown",
   "metadata": {},
   "source": [
    "Not good performance."
   ]
  }
 ],
 "metadata": {
  "interpreter": {
   "hash": "d9ff725623c15d695aa319bbc94ea42e245a1edcf20c6f47c05aed8c0d68e7f4"
  },
  "kernelspec": {
   "display_name": "Python 3.9.7 64-bit",
   "language": "python",
   "name": "python3"
  },
  "language_info": {
   "codemirror_mode": {
    "name": "ipython",
    "version": 3
   },
   "file_extension": ".py",
   "mimetype": "text/x-python",
   "name": "python",
   "nbconvert_exporter": "python",
   "pygments_lexer": "ipython3",
   "version": "3.9.7"
  },
  "orig_nbformat": 4
 },
 "nbformat": 4,
 "nbformat_minor": 2
}
