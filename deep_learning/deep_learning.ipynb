{
 "cells": [
  {
   "cell_type": "markdown",
   "metadata": {},
   "source": [
    "# Deep learning: ResNet vs ResNet-50\n",
    "\n",
    "By Zhu Xiaochen (A0194512H)\n",
    "\n",
    "In this notebook, we briefly demonstrate the superiority of ResNet-50 over simpler residual networks.\n",
    "There are two main differences between them:\n",
    "1. ResNet-50 is a more complicated model.\n",
    "2. ResNet-50 has pre-trained weights from ImageNet."
   ]
  },
  {
   "cell_type": "markdown",
   "metadata": {},
   "source": [
    "## Import Libraries"
   ]
  },
  {
   "cell_type": "code",
   "execution_count": 1,
   "metadata": {},
   "outputs": [],
   "source": [
    "import matplotlib.pyplot as plt\n",
    "import numpy as np\n",
    "import tensorflow as tf\n",
    "import tensorflow_datasets as tfds\n",
    "from tensorflow import keras\n",
    "from keras import layers"
   ]
  },
  {
   "cell_type": "markdown",
   "metadata": {},
   "source": [
    "## Retrieve Dataset"
   ]
  },
  {
   "cell_type": "code",
   "execution_count": 2,
   "metadata": {},
   "outputs": [],
   "source": [
    "train_ds = tfds.load(\"deep_weeds\", with_info=False, split='train[0%:80%]')\n",
    "test_ds  = tfds.load(\"deep_weeds\", with_info=False, split='train[80%:100%]')"
   ]
  },
  {
   "cell_type": "markdown",
   "metadata": {},
   "source": [
    "## Constructing the train and test datasets"
   ]
  },
  {
   "cell_type": "code",
   "execution_count": 3,
   "metadata": {},
   "outputs": [],
   "source": [
    "def preprocess(image, label):\n",
    "  processed_image = image / 255\n",
    "  processed_label = label\n",
    "  return processed_image, processed_label\n",
    "\n",
    "def augment(image, label):\n",
    "    '''\n",
    "    this augmentor simulates the series of augmentation made in the paper!\n",
    "    + random rotation\n",
    "    +\n",
    "    '''\n",
    "    # image = zoom([image])\n",
    "    # Random brightness\n",
    "    image = tf.image.random_brightness(image, max_delta=0.5)\n",
    "    # random hoeizontal flip\n",
    "    image = tf.image.random_flip_left_right(image)\n",
    "    # random vertical flip\n",
    "    image = tf.image.random_flip_up_down(image)\n",
    "    # random shiffting of the channels\n",
    "    image = tf.image.random_hue(image, max_delta=0.1)\n",
    "    # Adjust contrast\n",
    "    image = tf.image.random_contrast(image, lower=0.7, upper=1.3)\n",
    "    #random rotation\n",
    "    delta = tf.random.uniform([], minval = math.radians(-360), maxval = math.radians(360), dtype=tf.float32)\n",
    "    image = tf.image.rot90(image, tf.dtypes.cast(delta, tf.int32))\n",
    "    # random zoom hack \n",
    "    # since the image is 224x224 px we gonna crop it randomly between 70~200 px\n",
    "    # crop_size = tf.random.uniform([], minval = 112 ,maxval = 224, dtype=tf.float32) #generate random crop size\n",
    "    # image = tf.image.random_crop(image, [crop_size,crop_size,3], seed=0, name=None)\n",
    "    # image = tf.image.resize(image, [224,224], method = tf.image.ResizeMethod.BILINEAR, preserve_aspect_ratio=False,antialias=False, name=None)\n",
    "    return image, label\n",
    "\n",
    "# Use the batch method to prepare batches.\n",
    "processed_train_ds = (train_ds\n",
    "                .map(preprocess)\n",
    "                .map(lambda x, y: (data_augmentation(x, training=True), y))\n",
    "                .cache()\n",
    "                .map(augment, num_parallel_calls=tf.data.experimental.AUTOTUNE)\n",
    "                .batch(32)\n",
    "                .prefetch(tf.data.experimental.AUTOTUNE))\n",
    "\n",
    "processed_test_ds = test_ds.map(preprocess).cache().batch(32)\n",
    "# data_test_gen = data_test.map(preprocess_scale_resize).cache().batch(32)"
   ]
  },
  {
   "cell_type": "markdown",
   "metadata": {},
   "source": [
    "## A ResNet with fewer layers"
   ]
  },
  {
   "cell_type": "code",
   "execution_count": 34,
   "metadata": {},
   "outputs": [],
   "source": [
    "from tensorflow import keras\n",
    "from tensorflow.keras import layers\n",
    "\n",
    "def make_model(input_shape, num_classes):\n",
    "    inputs = keras.Input(shape=input_shape)\n",
    "    x = inputs\n",
    "\n",
    "    # Entry block\n",
    "    x = layers.Conv2D(32, 3, strides=2, padding=\"same\")(x)\n",
    "    x = layers.BatchNormalization()(x)\n",
    "    x = layers.Activation(\"relu\")(x)\n",
    "\n",
    "    x = layers.Conv2D(64, 3, padding=\"same\")(x)\n",
    "    x = layers.BatchNormalization()(x)\n",
    "    x = layers.Activation(\"relu\")(x)\n",
    "\n",
    "    previous_block_activation = x  # Set aside residual\n",
    "\n",
    "    # for size in [64, 128]:\n",
    "    for size in [64, 64, 128, 128, 512]:\n",
    "        x = layers.Activation(\"relu\")(x)\n",
    "        x = layers.SeparableConv2D(size, 3, padding=\"same\")(x)\n",
    "        x = layers.BatchNormalization()(x)\n",
    "\n",
    "        x = layers.Activation(\"relu\")(x)\n",
    "        x = layers.SeparableConv2D(size, 3, padding=\"same\")(x)\n",
    "        x = layers.BatchNormalization()(x)\n",
    "\n",
    "        x = layers.MaxPooling2D(3, strides=2, padding=\"same\")(x)\n",
    "\n",
    "        # Project residual\n",
    "        residual = layers.Conv2D(size, 1, strides=2, padding=\"same\")(\n",
    "            previous_block_activation\n",
    "        )\n",
    "        x = layers.add([x, residual])  # Add back residual\n",
    "        previous_block_activation = x  # Set aside next residual\n",
    "\n",
    "    x = layers.SeparableConv2D(1024, 3, padding=\"same\")(x)\n",
    "    x = layers.BatchNormalization()(x)\n",
    "    x = layers.Activation(\"relu\")(x)\n",
    "\n",
    "    x = layers.GlobalAveragePooling2D()(x)\n",
    "    if num_classes == 2:\n",
    "        activation = \"sigmoid\"\n",
    "        units = 1\n",
    "    else:\n",
    "        activation = \"softmax\"\n",
    "        units = num_classes\n",
    "\n",
    "    x = layers.Dropout(0.5)(x)\n",
    "    outputs = layers.Dense(units, activation=activation)(x)\n",
    "    return keras.Model(inputs, outputs)\n",
    "\n",
    "model = make_model(input_shape=(256,256,3), num_classes=9)\n",
    "\n",
    "model.compile(\n",
    "    optimizer=keras.optimizers.Adam(0.01),\n",
    "    loss=\"sparse_categorical_crossentropy\",\n",
    "    metrics=[\"accuracy\"],\n",
    ")"
   ]
  },
  {
   "cell_type": "code",
   "execution_count": 35,
   "metadata": {},
   "outputs": [
    {
     "name": "stdout",
     "output_type": "stream",
     "text": [
      "Epoch 1/50\n",
      "10/10 [==============================] - 19s 779ms/step - loss: 3.8799 - accuracy: 0.1333 - val_loss: 79.4651 - val_accuracy: 0.0933\n",
      "Epoch 2/50\n",
      "10/10 [==============================] - 4s 395ms/step - loss: 2.8858 - accuracy: 0.1533 - val_loss: 44.4349 - val_accuracy: 0.1200\n",
      "Epoch 3/50\n",
      "10/10 [==============================] - 4s 393ms/step - loss: 2.5745 - accuracy: 0.2167 - val_loss: 22.7156 - val_accuracy: 0.0933\n",
      "Epoch 4/50\n",
      "10/10 [==============================] - 4s 393ms/step - loss: 2.1695 - accuracy: 0.2600 - val_loss: 5.9721 - val_accuracy: 0.1067\n",
      "Epoch 5/50\n",
      "10/10 [==============================] - 4s 389ms/step - loss: 2.1351 - accuracy: 0.2600 - val_loss: 4.5413 - val_accuracy: 0.0667\n",
      "Epoch 6/50\n",
      "10/10 [==============================] - 4s 391ms/step - loss: 2.0008 - accuracy: 0.2733 - val_loss: 3.1943 - val_accuracy: 0.1200\n",
      "Epoch 7/50\n",
      "10/10 [==============================] - 4s 391ms/step - loss: 1.9790 - accuracy: 0.2933 - val_loss: 2.7706 - val_accuracy: 0.1600\n",
      "Epoch 8/50\n",
      "10/10 [==============================] - 4s 393ms/step - loss: 1.9339 - accuracy: 0.3200 - val_loss: 3.8824 - val_accuracy: 0.0267\n",
      "Epoch 9/50\n",
      "10/10 [==============================] - 4s 390ms/step - loss: 1.9696 - accuracy: 0.3167 - val_loss: 2.8452 - val_accuracy: 0.2000\n",
      "Epoch 10/50\n",
      "10/10 [==============================] - 4s 390ms/step - loss: 1.7495 - accuracy: 0.3633 - val_loss: 2.7101 - val_accuracy: 0.1467\n",
      "Epoch 11/50\n",
      "10/10 [==============================] - 4s 390ms/step - loss: 1.5542 - accuracy: 0.4733 - val_loss: 2.8587 - val_accuracy: 0.0267\n",
      "Epoch 12/50\n",
      "10/10 [==============================] - 4s 391ms/step - loss: 1.5131 - accuracy: 0.4267 - val_loss: 2.5730 - val_accuracy: 0.0400\n",
      "Epoch 13/50\n",
      "10/10 [==============================] - 4s 392ms/step - loss: 1.4289 - accuracy: 0.4500 - val_loss: 2.6188 - val_accuracy: 0.0933\n",
      "Epoch 14/50\n",
      "10/10 [==============================] - 4s 390ms/step - loss: 1.3842 - accuracy: 0.5033 - val_loss: 2.9959 - val_accuracy: 0.0533\n",
      "Epoch 15/50\n",
      "10/10 [==============================] - 4s 391ms/step - loss: 1.3271 - accuracy: 0.5300 - val_loss: 2.2963 - val_accuracy: 0.1867\n",
      "Epoch 16/50\n",
      "10/10 [==============================] - 4s 390ms/step - loss: 1.1436 - accuracy: 0.5900 - val_loss: 2.7981 - val_accuracy: 0.1200\n",
      "Epoch 17/50\n",
      "10/10 [==============================] - 4s 390ms/step - loss: 1.0054 - accuracy: 0.6167 - val_loss: 2.7925 - val_accuracy: 0.1600\n",
      "Epoch 18/50\n",
      "10/10 [==============================] - 4s 391ms/step - loss: 1.0915 - accuracy: 0.5867 - val_loss: 4.0544 - val_accuracy: 0.1867\n",
      "Epoch 19/50\n",
      "10/10 [==============================] - 4s 391ms/step - loss: 0.9768 - accuracy: 0.6600 - val_loss: 3.7394 - val_accuracy: 0.2267\n",
      "Epoch 20/50\n",
      "10/10 [==============================] - 4s 390ms/step - loss: 0.8615 - accuracy: 0.6967 - val_loss: 3.5219 - val_accuracy: 0.2667\n",
      "Epoch 21/50\n",
      "10/10 [==============================] - 4s 391ms/step - loss: 0.6872 - accuracy: 0.7767 - val_loss: 4.1122 - val_accuracy: 0.2267\n",
      "Epoch 22/50\n",
      "10/10 [==============================] - 4s 402ms/step - loss: 0.5436 - accuracy: 0.8000 - val_loss: 2.5343 - val_accuracy: 0.1600\n",
      "Epoch 23/50\n",
      "10/10 [==============================] - 4s 391ms/step - loss: 0.5651 - accuracy: 0.8033 - val_loss: 5.9372 - val_accuracy: 0.2000\n",
      "Epoch 24/50\n",
      "10/10 [==============================] - 4s 390ms/step - loss: 0.5032 - accuracy: 0.8167 - val_loss: 5.0807 - val_accuracy: 0.1333\n",
      "Epoch 25/50\n",
      "10/10 [==============================] - 4s 391ms/step - loss: 0.4388 - accuracy: 0.8467 - val_loss: 4.5971 - val_accuracy: 0.1867\n",
      "Epoch 26/50\n",
      "10/10 [==============================] - 4s 393ms/step - loss: 0.3107 - accuracy: 0.9067 - val_loss: 3.7585 - val_accuracy: 0.3333\n",
      "Epoch 27/50\n",
      "10/10 [==============================] - 4s 391ms/step - loss: 0.3577 - accuracy: 0.9000 - val_loss: 3.3586 - val_accuracy: 0.2667\n",
      "Epoch 28/50\n",
      "10/10 [==============================] - 4s 389ms/step - loss: 0.3048 - accuracy: 0.9033 - val_loss: 5.6370 - val_accuracy: 0.2533\n",
      "Epoch 29/50\n",
      "10/10 [==============================] - 4s 392ms/step - loss: 0.2007 - accuracy: 0.9300 - val_loss: 4.4522 - val_accuracy: 0.1600\n",
      "Epoch 30/50\n",
      "10/10 [==============================] - 4s 390ms/step - loss: 0.1493 - accuracy: 0.9600 - val_loss: 11.4010 - val_accuracy: 0.1867\n",
      "Epoch 31/50\n",
      "10/10 [==============================] - 4s 390ms/step - loss: 0.2477 - accuracy: 0.9100 - val_loss: 5.6549 - val_accuracy: 0.1467\n",
      "Epoch 32/50\n",
      "10/10 [==============================] - 4s 390ms/step - loss: 0.1570 - accuracy: 0.9533 - val_loss: 6.8862 - val_accuracy: 0.1867\n",
      "Epoch 33/50\n",
      "10/10 [==============================] - 4s 392ms/step - loss: 0.1626 - accuracy: 0.9433 - val_loss: 9.4996 - val_accuracy: 0.1200\n",
      "Epoch 34/50\n",
      "10/10 [==============================] - 4s 392ms/step - loss: 0.1463 - accuracy: 0.9667 - val_loss: 6.6858 - val_accuracy: 0.1867\n",
      "Epoch 35/50\n",
      "10/10 [==============================] - 4s 391ms/step - loss: 0.1931 - accuracy: 0.9367 - val_loss: 8.3542 - val_accuracy: 0.1333\n",
      "Epoch 36/50\n",
      "10/10 [==============================] - 4s 390ms/step - loss: 0.1653 - accuracy: 0.9600 - val_loss: 7.4558 - val_accuracy: 0.2133\n",
      "Epoch 37/50\n",
      "10/10 [==============================] - 4s 393ms/step - loss: 0.1357 - accuracy: 0.9533 - val_loss: 6.2429 - val_accuracy: 0.2133\n",
      "Epoch 38/50\n",
      "10/10 [==============================] - 4s 391ms/step - loss: 0.0974 - accuracy: 0.9667 - val_loss: 8.1824 - val_accuracy: 0.2667\n",
      "Epoch 39/50\n",
      "10/10 [==============================] - 4s 392ms/step - loss: 0.0747 - accuracy: 0.9733 - val_loss: 7.7092 - val_accuracy: 0.2667\n",
      "Epoch 40/50\n",
      "10/10 [==============================] - 4s 390ms/step - loss: 0.1248 - accuracy: 0.9533 - val_loss: 6.4534 - val_accuracy: 0.2667\n",
      "Epoch 41/50\n",
      "10/10 [==============================] - 4s 391ms/step - loss: 0.1257 - accuracy: 0.9667 - val_loss: 11.2792 - val_accuracy: 0.1467\n",
      "Epoch 42/50\n",
      "10/10 [==============================] - 4s 391ms/step - loss: 0.1031 - accuracy: 0.9767 - val_loss: 10.5431 - val_accuracy: 0.1600\n",
      "Epoch 43/50\n",
      "10/10 [==============================] - 4s 391ms/step - loss: 0.1211 - accuracy: 0.9567 - val_loss: 9.0761 - val_accuracy: 0.2133\n",
      "Epoch 44/50\n",
      "10/10 [==============================] - 4s 391ms/step - loss: 0.1186 - accuracy: 0.9633 - val_loss: 10.0538 - val_accuracy: 0.1733\n",
      "Epoch 45/50\n",
      "10/10 [==============================] - 4s 390ms/step - loss: 0.0812 - accuracy: 0.9733 - val_loss: 7.4006 - val_accuracy: 0.2533\n",
      "Epoch 46/50\n",
      "10/10 [==============================] - 4s 389ms/step - loss: 0.0569 - accuracy: 0.9800 - val_loss: 6.8668 - val_accuracy: 0.2667\n",
      "Epoch 47/50\n",
      "10/10 [==============================] - 4s 391ms/step - loss: 0.0359 - accuracy: 0.9833 - val_loss: 8.1726 - val_accuracy: 0.3067\n",
      "Epoch 48/50\n",
      "10/10 [==============================] - 4s 390ms/step - loss: 0.0247 - accuracy: 0.9967 - val_loss: 6.8978 - val_accuracy: 0.2800\n",
      "Epoch 49/50\n",
      "10/10 [==============================] - 4s 390ms/step - loss: 0.0122 - accuracy: 1.0000 - val_loss: 6.5682 - val_accuracy: 0.2267\n",
      "Epoch 50/50\n",
      "10/10 [==============================] - 4s 392ms/step - loss: 0.0082 - accuracy: 1.0000 - val_loss: 6.1741 - val_accuracy: 0.2667\n"
     ]
    }
   ],
   "source": [
    "LOG = model.fit(x=processed_train_ds,\n",
    "          epochs=50,\n",
    "          batch_size=32,\n",
    "          validation_data=processed_test_ds,)"
   ]
  },
  {
   "cell_type": "code",
   "execution_count": 38,
   "metadata": {},
   "outputs": [
    {
     "data": {
      "image/png": "[encoded data removed]",
      "text/plain": [
       "<Figure size 432x288 with 1 Axes>"
      ]
     },
     "metadata": {
      "needs_background": "light"
     },
     "output_type": "display_data"
    },
    {
     "data": {
      "image/png": "[encoded data removed]",
      "text/plain": [
       "<Figure size 432x288 with 1 Axes>"
      ]
     },
     "metadata": {
      "needs_background": "light"
     },
     "output_type": "display_data"
    }
   ],
   "source": [
    "plt.plot(LOG.history['accuracy'])\n",
    "plt.plot(LOG.history['val_accuracy'])\n",
    "plt.title('model accuracy: lr=0.01')\n",
    "plt.ylabel('accuracy')\n",
    "plt.xlabel('epoch')\n",
    "plt.legend(['train', 'test'], loc='upper left')\n",
    "plt.show()\n",
    "\n",
    "plt.plot(LOG.history['loss'])\n",
    "plt.plot(LOG.history['val_loss'])\n",
    "plt.title('model loss: lr=0.01')\n",
    "plt.ylabel('loss')\n",
    "plt.xlabel('epoch')\n",
    "plt.legend(['train', 'test'], loc='upper left')\n",
    "plt.show()"
   ]
  },
  {
   "cell_type": "markdown",
   "metadata": {},
   "source": [
    "## Train with `RetNet50`"
   ]
  },
  {
   "cell_type": "code",
   "execution_count": 3,
   "metadata": {},
   "outputs": [],
   "source": [
    "import math\n",
    "\n",
    "# def preprocess_and_scale(image, label):\n",
    "#   processed_image = tf.image.resize(image, [224, 224]) / 255\n",
    "#   processed_label = label\n",
    "#   return processed_image, processed_label\n",
    "\n",
    "def preprocess_and_scale(dict):\n",
    "  processed_image = tf.image.resize(dict['image'], [224, 224]) / 255\n",
    "  processed_label = dict['label']\n",
    "  return processed_image, processed_label\n",
    "\n",
    "def augment(image, label):\n",
    "    '''\n",
    "    this augmentor simulates the series of augmentation made in the paper!\n",
    "    + random rotation\n",
    "    +\n",
    "    '''\n",
    "\n",
    "    # image = zoom([image])\n",
    "    # Random brightness\n",
    "    image = tf.image.random_brightness(image, max_delta=0.5)\n",
    "    # random hoeizontal flip\n",
    "    image = tf.image.random_flip_left_right(image)\n",
    "    # random vertical flip\n",
    "    image = tf.image.random_flip_up_down(image)\n",
    "    # random shiffting of the channels\n",
    "    image = tf.image.random_hue(image, max_delta=0.1)\n",
    "    # Adjust contrast\n",
    "    image = tf.image.random_contrast(image, lower=0.7, upper=1.3)\n",
    "    #random rotation\n",
    "    delta = tf.random.uniform([], minval = math.radians(-360), maxval = math.radians(360), dtype=tf.float32)\n",
    "    image = tf.image.rot90(image, tf.dtypes.cast(delta, tf.int32))\n",
    "    # random zoom hack \n",
    "    # since the image is 224x224 px we gonna crop it randomly between 70~200 px\n",
    "    # crop_size = tf.random.uniform([], minval = 112 ,maxval = 224, dtype=tf.float32) #generate random crop size\n",
    "    # image = tf.image.random_crop(image, [crop_size,crop_size,3], seed=0, name=None)\n",
    "    # image = tf.image.resize(image, [224,224], method = tf.image.ResizeMethod.BILINEAR, preserve_aspect_ratio=False,antialias=False, name=None)\n",
    "    return image, label\n",
    "\n",
    "data_augmentation = keras.Sequential(\n",
    "    [\n",
    "        layers.RandomFlip(\"horizontal\"),\n",
    "        layers.RandomRotation(0.1),\n",
    "    ]\n",
    ")\n",
    "\n",
    "# Use the batch method to prepare batches.\n",
    "scaled_train_ds = (train_ds\n",
    "                .map(preprocess_and_scale)\n",
    "                # .map(lambda x, y: (data_augmentation(x, training=True), y))\n",
    "                .cache()\n",
    "                .map(augment, num_parallel_calls=tf.data.experimental.AUTOTUNE)\n",
    "                .batch(32)\n",
    "                .prefetch(tf.data.experimental.AUTOTUNE))\n",
    "\n",
    "scaled_test_ds = test_ds.map(preprocess_and_scale).cache().batch(32)"
   ]
  },
  {
   "cell_type": "code",
   "execution_count": 4,
   "metadata": {},
   "outputs": [],
   "source": [
    "from tensorflow.keras.applications import ResNet50\n",
    "\n",
    "INITIAL_LR = 0.001\n",
    "NUM_CLASSES = 9\n",
    "\n",
    "image_input = layers.Input((224, 224, 3))\n",
    "resnet = ResNet50(include_top=False, weights=\"imagenet\")\n",
    "\n",
    "model = tf.keras.Sequential(\n",
    "        [image_input,\n",
    "        resnet,\n",
    "        layers.GlobalAveragePooling2D(),\n",
    "        layers.Flatten(),\n",
    "        layers.Dense(NUM_CLASSES, activation=\"softmax\")])\n",
    "\n",
    "model.compile(optimizer=tf.keras.optimizers.Adam(learning_rate=INITIAL_LR), loss=\"sparse_categorical_crossentropy\", metrics=\"accuracy\")"
   ]
  },
  {
   "cell_type": "code",
   "execution_count": 5,
   "metadata": {},
   "outputs": [
    {
     "name": "stdout",
     "output_type": "stream",
     "text": [
      "Epoch 1/10\n",
      "438/438 [==============================] - 169s 365ms/step - loss: 1.2050 - accuracy: 0.5994 - val_loss: 4.7061 - val_accuracy: 0.0603\n",
      "Epoch 2/10\n",
      "438/438 [==============================] - 157s 358ms/step - loss: 0.7982 - accuracy: 0.7201 - val_loss: 2.6577 - val_accuracy: 0.1839\n",
      "Epoch 3/10\n",
      "438/438 [==============================] - 157s 358ms/step - loss: 0.6844 - accuracy: 0.7616 - val_loss: 0.8134 - val_accuracy: 0.7242\n",
      "Epoch 4/10\n",
      "438/438 [==============================] - 231s 528ms/step - loss: 0.5819 - accuracy: 0.7955 - val_loss: 1.3527 - val_accuracy: 0.6128\n",
      "Epoch 5/10\n",
      "438/438 [==============================] - 300s 684ms/step - loss: 0.5195 - accuracy: 0.8202 - val_loss: 0.6049 - val_accuracy: 0.7958\n",
      "Epoch 6/10\n",
      "438/438 [==============================] - 294s 671ms/step - loss: 0.4896 - accuracy: 0.8293 - val_loss: 1.0262 - val_accuracy: 0.6668\n",
      "Epoch 7/10\n",
      "438/438 [==============================] - 294s 670ms/step - loss: 0.4455 - accuracy: 0.8455 - val_loss: 1.5437 - val_accuracy: 0.6205\n",
      "Epoch 8/10\n",
      "438/438 [==============================] - 292s 667ms/step - loss: 0.4158 - accuracy: 0.8559 - val_loss: 0.9055 - val_accuracy: 0.7056\n",
      "Epoch 9/10\n",
      "438/438 [==============================] - 291s 665ms/step - loss: 0.3845 - accuracy: 0.8671 - val_loss: 1.2191 - val_accuracy: 0.6702\n",
      "Epoch 10/10\n",
      "438/438 [==============================] - 286s 652ms/step - loss: 0.3591 - accuracy: 0.8813 - val_loss: 1.0876 - val_accuracy: 0.6788\n"
     ]
    }
   ],
   "source": [
    "log_50 = model.fit(x=scaled_train_ds, epochs=10, batch_size=32, validation_data=scaled_test_ds,)"
   ]
  },
  {
   "cell_type": "code",
   "execution_count": 6,
   "metadata": {},
   "outputs": [
    {
     "data": {
      "image/png": "[encoded data removed]",
      "text/plain": [
       "<Figure size 432x288 with 1 Axes>"
      ]
     },
     "metadata": {
      "needs_background": "light"
     },
     "output_type": "display_data"
    },
    {
     "data": {
      "image/png": "[encoded data removed]",
      "text/plain": [
       "<Figure size 432x288 with 1 Axes>"
      ]
     },
     "metadata": {
      "needs_background": "light"
     },
     "output_type": "display_data"
    }
   ],
   "source": [
    "plt.plot(log_50.history['accuracy'])\n",
    "plt.plot(log_50.history['val_accuracy'])\n",
    "plt.title('model accuracy: lr=0.01')\n",
    "plt.ylabel('accuracy')\n",
    "plt.xlabel('epoch')\n",
    "plt.legend(['train', 'test'], loc='upper left')\n",
    "plt.show()\n",
    "\n",
    "plt.plot(log_50.history['loss'])\n",
    "plt.plot(log_50.history['val_loss'])\n",
    "plt.title('model loss: lr=0.01')\n",
    "plt.ylabel('loss')\n",
    "plt.xlabel('epoch')\n",
    "plt.legend(['train', 'test'], loc='upper left')\n",
    "plt.show()"
   ]
  }
 ],
 "metadata": {
  "interpreter": {
   "hash": "537ee3228a6e56656b5010f9d133ba8851de307333455882d05146d4ecc78332"
  },
  "kernelspec": {
   "display_name": "Python 3.7.10 64-bit ('base': conda)",
   "name": "python3"
  },
  "language_info": {
   "codemirror_mode": {
    "name": "ipython",
    "version": 3
   },
   "file_extension": ".py",
   "mimetype": "text/x-python",
   "name": "python",
   "nbconvert_exporter": "python",
   "pygments_lexer": "ipython3",
   "version": "3.9.7"
  }
 },
 "nbformat": 4,
 "nbformat_minor": 2
}
