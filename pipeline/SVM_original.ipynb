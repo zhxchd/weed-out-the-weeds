{
  "cells": [
    {
      "cell_type": "code",
      "execution_count": 16,
      "metadata": {},
      "outputs": [
        {
          "name": "stdout",
          "output_type": "stream",
          "text": [
            "\u001b[33mDEPRECATION: Configuring installation scheme with distutils config files is deprecated and will no longer work in the near future. If you are using a Homebrew or Linuxbrew Python, please see discussion at https://github.com/Homebrew/homebrew-core/issues/76621\u001b[0m\n",
            "Requirement already satisfied: keras in /usr/local/lib/python3.9/site-packages (2.6.0)\n",
            "\u001b[33mWARNING: You are using pip version 21.2.4; however, version 21.3.1 is available.\n",
            "You should consider upgrading via the '/usr/local/opt/python@3.9/bin/python3.9 -m pip install --upgrade pip' command.\u001b[0m\n",
            "Note: you may need to restart the kernel to use updated packages.\n"
          ]
        }
      ],
      "source": [
        "%pip install keras\n",
        "%load_ext autoreload\n",
        "%autoreload 2"
      ]
    },
    {
      "cell_type": "code",
      "execution_count": 18,
      "metadata": {},
      "outputs": [],
      "source": [
        "from sklearn import svm\n",
        "from sklearn.model_selection import train_test_split\n",
        "import numpy as np\n",
        "import matplotlib.pyplot as plt\n",
        "import tensorflow_datasets as tfds\n",
        "import tensorflow as tf\n",
        "\n",
        "(train_ds, test_ds) = tfds.load(\n",
        "    'deep_weeds',\n",
        "    split=['train[:80%]', 'train[80%:]'],\n",
        "    as_supervised=True,\n",
        ")"
      ]
    },
    {
      "cell_type": "code",
      "execution_count": 19,
      "metadata": {},
      "outputs": [
        {
          "name": "stdout",
          "output_type": "stream",
          "text": [
            "200\n",
            "50\n"
          ]
        }
      ],
      "source": [
        "train_ds_numpy = [(instance.numpy(), label.numpy()) for instance, label in train_ds if label < 8]\n",
        "test_ds_numpy = [(instance.numpy(), label.numpy()) for instance, label in test_ds if label < 8]\n",
        "\n",
        "random_train_indices = np.random.choice(len(train_ds_numpy), size=200, replace=False)\n",
        "random_test_indices = np.random.choice(len(test_ds_numpy), size=50, replace=False)\n",
        "\n",
        "X_train_original = [[instance for instance, _ in train_ds_numpy][i] for i in random_train_indices]\n",
        "y_train = [[label for _, label in train_ds_numpy][i] for i in random_train_indices]\n",
        "\n",
        "X_test_original = [[instance for instance, _ in test_ds_numpy][i] for i in random_test_indices]\n",
        "y_test = [[label for _, label in test_ds_numpy][i] for i in random_test_indices]\n",
        "\n",
        "print(len(X_train_original))\n",
        "print(len(X_test_original))"
      ]
    },
    {
      "cell_type": "code",
      "execution_count": 20,
      "metadata": {},
      "outputs": [],
      "source": [
        "# from skimage import feature\n",
        "# import cv2\n",
        "\n",
        "# print(np.array(X_test_original).shape)\n",
        "\n",
        "# sigma = 1.5\n",
        "# X_train_image = list(map(lambda x: feature.canny(cv2.cvtColor(x, cv2.COLOR_RGB2GRAY), sigma=sigma), X_train_original))\n",
        "# X_test_image = list(map(lambda x: feature.canny(cv2.cvtColor(x, cv2.COLOR_RGB2GRAY), sigma=sigma), X_test_original))"
      ]
    },
    {
      "cell_type": "code",
      "execution_count": 21,
      "metadata": {},
      "outputs": [],
      "source": [
        "# fig, ax = plt.subplots(nrows=1, ncols=2, figsize=(10, 3))\n",
        "\n",
        "# ax[0].imshow(X_train_image[0], cmap='gray')\n",
        "# ax[0].set_title(r'from X_train with $\\sigma=1.5$', fontsize=20)\n",
        "\n",
        "# ax[1].imshow(X_test_image[0], cmap='gray')\n",
        "# ax[1].set_title(r'from X_test with $\\sigma=1.5$', fontsize=20)"
      ]
    },
    {
      "cell_type": "code",
      "execution_count": 22,
      "metadata": {},
      "outputs": [
        {
          "name": "stdout",
          "output_type": "stream",
          "text": [
            "Model: \"vgg16\"\n",
            "_________________________________________________________________\n",
            "Layer (type)                 Output Shape              Param #   \n",
            "=================================================================\n",
            "input_2 (InputLayer)         [(None, 256, 256, 3)]     0         \n",
            "_________________________________________________________________\n",
            "block1_conv1 (Conv2D)        (None, 256, 256, 64)      1792      \n",
            "_________________________________________________________________\n",
            "block1_conv2 (Conv2D)        (None, 256, 256, 64)      36928     \n",
            "_________________________________________________________________\n",
            "block1_pool (MaxPooling2D)   (None, 128, 128, 64)      0         \n",
            "_________________________________________________________________\n",
            "block2_conv1 (Conv2D)        (None, 128, 128, 128)     73856     \n",
            "_________________________________________________________________\n",
            "block2_conv2 (Conv2D)        (None, 128, 128, 128)     147584    \n",
            "_________________________________________________________________\n",
            "block2_pool (MaxPooling2D)   (None, 64, 64, 128)       0         \n",
            "_________________________________________________________________\n",
            "block3_conv1 (Conv2D)        (None, 64, 64, 256)       295168    \n",
            "_________________________________________________________________\n",
            "block3_conv2 (Conv2D)        (None, 64, 64, 256)       590080    \n",
            "_________________________________________________________________\n",
            "block3_conv3 (Conv2D)        (None, 64, 64, 256)       590080    \n",
            "_________________________________________________________________\n",
            "block3_pool (MaxPooling2D)   (None, 32, 32, 256)       0         \n",
            "_________________________________________________________________\n",
            "block4_conv1 (Conv2D)        (None, 32, 32, 512)       1180160   \n",
            "_________________________________________________________________\n",
            "block4_conv2 (Conv2D)        (None, 32, 32, 512)       2359808   \n",
            "_________________________________________________________________\n",
            "block4_conv3 (Conv2D)        (None, 32, 32, 512)       2359808   \n",
            "_________________________________________________________________\n",
            "block4_pool (MaxPooling2D)   (None, 16, 16, 512)       0         \n",
            "_________________________________________________________________\n",
            "block5_conv1 (Conv2D)        (None, 16, 16, 512)       2359808   \n",
            "_________________________________________________________________\n",
            "block5_conv2 (Conv2D)        (None, 16, 16, 512)       2359808   \n",
            "_________________________________________________________________\n",
            "block5_conv3 (Conv2D)        (None, 16, 16, 512)       2359808   \n",
            "_________________________________________________________________\n",
            "block5_pool (MaxPooling2D)   (None, 8, 8, 512)         0         \n",
            "=================================================================\n",
            "Total params: 14,714,688\n",
            "Trainable params: 14,714,688\n",
            "Non-trainable params: 0\n",
            "_________________________________________________________________\n"
          ]
        }
      ],
      "source": [
        "# Instantiate convolutional base\n",
        "# Reference: https://towardsdatascience.com/transfer-learning-from-pre-trained-models-f2393f124751\n",
        "from tensorflow.keras.applications import VGG16\n",
        "\n",
        "img_width, img_height = X_train_original[0].shape[0:2]\n",
        "conv_base = VGG16(weights='imagenet', \n",
        "                  include_top=False,\n",
        "                  input_shape=(img_width, img_height, 3))  # 3 = number of channels in RGB pictures\n",
        "\n",
        "conv_base.summary()"
      ]
    },
    {
      "cell_type": "code",
      "execution_count": 23,
      "metadata": {},
      "outputs": [
        {
          "name": "stdout",
          "output_type": "stream",
          "text": [
            "(32, 8, 8, 512)\n",
            "(32, 8, 8, 512)\n",
            "(32, 8, 8, 512)\n",
            "(32, 8, 8, 512)\n",
            "(32, 8, 8, 512)\n",
            "(32, 8, 8, 512)\n",
            "(8, 8, 8, 512)\n",
            "(32, 8, 8, 512)\n",
            "(18, 8, 8, 512)\n"
          ]
        }
      ],
      "source": [
        "# Extract features\n",
        "import os, shutil\n",
        "from keras.preprocessing.image import ImageDataGenerator\n",
        "\n",
        "datagen = ImageDataGenerator(rescale=1./255)\n",
        "batch_size = 32\n",
        "\n",
        "def extract_features(x, y):\n",
        "    sample_count = len(y)\n",
        "    \n",
        "    features = np.zeros(shape=(sample_count, 8, 8, 512))  # Must be equal to the output of the convolutional base\n",
        "    labels = np.zeros(shape=(sample_count))\n",
        "    # Preprocess data\n",
        "    generator = datagen.flow(np.array(x), np.array(y), batch_size = batch_size)\n",
        "    # Pass data through convolutional base\n",
        "    i = 0\n",
        "    for inputs_batch, labels_batch in generator:\n",
        "        features_batch = conv_base.predict(inputs_batch)\n",
        "        print(features_batch.shape)\n",
        "        features[i * batch_size: (i + 1) * batch_size] = features_batch\n",
        "        labels[i * batch_size: (i + 1) * batch_size] = labels_batch\n",
        "        i += 1\n",
        "        if i * batch_size >= sample_count:\n",
        "            break\n",
        "    return features, labels\n",
        "    \n",
        "train_features, train_labels = extract_features(X_train_original, y_train)  # Agree with our small dataset size\n",
        "# validation_features, validation_labels = extract_features(validation_dir, validation_size)\n",
        "test_features, test_labels = extract_features(X_test_original, y_test)"
      ]
    },
    {
      "cell_type": "code",
      "execution_count": 24,
      "metadata": {},
      "outputs": [
        {
          "name": "stdout",
          "output_type": "stream",
          "text": [
            "(200,)\n",
            "feature size now: (32768,)\n"
          ]
        }
      ],
      "source": [
        "X_train = list(map(lambda x: x.flatten(), train_features))\n",
        "y_train = train_labels\n",
        "X_test = list(map(lambda x: x.flatten(), test_features))\n",
        "y_test = test_labels\n",
        "\n",
        "print(train_labels.shape)\n",
        "print(\"feature size now:\", X_train[0].shape) # orginal feature is of dimension 196608"
      ]
    },
    {
      "cell_type": "code",
      "execution_count": 43,
      "metadata": {},
      "outputs": [
        {
          "name": "stdout",
          "output_type": "stream",
          "text": [
            "0.52\n",
            "0.34\n"
          ]
        }
      ],
      "source": [
        "linear = svm.SVC(kernel='linear', C=1, decision_function_shape='ovo').fit(X_train, y_train)\n",
        "linear_pred = linear.predict(X_test)\n",
        "accuracy_lin = linear.score(X_test, y_test)\n",
        "print(accuracy_lin)\n",
        "linear = svm.SVC(kernel='linear', C=0.00025, decision_function_shape='ovo').fit(X_train, y_train)\n",
        "linear_pred = linear.predict(X_test)\n",
        "accuracy_lin = linear.score(X_test, y_test)\n",
        "print(accuracy_lin)"
      ]
    },
    {
      "cell_type": "code",
      "execution_count": 53,
      "metadata": {},
      "outputs": [
        {
          "name": "stdout",
          "output_type": "stream",
          "text": [
            "Running 5-fold cross validation for svm with {'kernel': 'linear', 'C': 0.0024, 'gamma': 'scale'}\n",
            "Obtained split accuracy of: 0.625\n",
            "Obtained split accuracy of: 0.425\n",
            "Obtained split accuracy of: 0.5\n",
            "Obtained split accuracy of: 0.375\n",
            "Obtained split accuracy of: 0.475\n",
            "Completed 5-fold cross validation for svm with {'kernel': 'linear', 'C': 0.0024, 'gamma': 'scale'}\n",
            "Obtained average accuracy of: 0.48\n",
            "\n",
            "Running 5-fold cross validation for svm with {'kernel': 'linear', 'C': 0.0026, 'gamma': 'scale'}\n",
            "Obtained split accuracy of: 0.625\n",
            "Obtained split accuracy of: 0.425\n",
            "Obtained split accuracy of: 0.5\n",
            "Obtained split accuracy of: 0.375\n",
            "Obtained split accuracy of: 0.475\n",
            "Completed 5-fold cross validation for svm with {'kernel': 'linear', 'C': 0.0026, 'gamma': 'scale'}\n",
            "Obtained average accuracy of: 0.48\n",
            "\n"
          ]
        }
      ],
      "source": [
        "from run_algo_with_kfold import kfold_cross_validation\n",
        "\n",
        "Cs = [0.0024, 0.0026]\n",
        "gammas = ['scale']\n",
        "k = 5\n",
        "final_accuracies = []\n",
        "for C in Cs:\n",
        "  for gamma in gammas:\n",
        "    final_accuracy = kfold_cross_validation(k, X_train, y_train, 'svm', {'kernel': 'linear', 'C': C, 'gamma': gamma})\n",
        "    final_accuracies.append(final_accuracy)"
      ]
    },
    {
      "cell_type": "code",
      "execution_count": 30,
      "metadata": {},
      "outputs": [
        {
          "name": "stdout",
          "output_type": "stream",
          "text": [
            "Accuracy Linear Kernel: 0.672\n"
          ]
        }
      ],
      "source": [
        "linear = svm.SVC(kernel='linear', C=1, decision_function_shape='ovo').fit(X_train, y_train)\n",
        "linear_pred = linear.predict(X_test)\n",
        "accuracy_lin = linear.score(X_test, y_test)\n",
        "print(\"Accuracy Linear Kernel:\", accuracy_lin)"
      ]
    },
    {
      "cell_type": "code",
      "execution_count": 31,
      "metadata": {},
      "outputs": [
        {
          "name": "stdout",
          "output_type": "stream",
          "text": [
            "Accuracy Radial Basis Kernel: 0.104\n"
          ]
        }
      ],
      "source": [
        "rbf = svm.SVC(kernel='rbf', gamma=0.1, C=1, decision_function_shape='ovo').fit(X_train, y_train)\n",
        "rbf_pred = rbf.predict(X_test)\n",
        "accuracy_rbf = rbf.score(X_test, y_test)\n",
        "print(\"Accuracy Radial Basis Kernel:\", accuracy_rbf)"
      ]
    },
    {
      "cell_type": "code",
      "execution_count": 32,
      "metadata": {},
      "outputs": [
        {
          "name": "stdout",
          "output_type": "stream",
          "text": [
            "Accuracy Polynomial Kernel: 0.472\n"
          ]
        }
      ],
      "source": [
        "poly = svm.SVC(kernel='poly', degree=3, C=1, decision_function_shape='ovo').fit(X_train, y_train)\n",
        "poly_pred = poly.predict(X_test)\n",
        "accuracy_poly = poly.score(X_test, y_test)\n",
        "print(\"Accuracy Polynomial Kernel:\", accuracy_poly)"
      ]
    },
    {
      "cell_type": "code",
      "execution_count": 33,
      "metadata": {},
      "outputs": [
        {
          "name": "stdout",
          "output_type": "stream",
          "text": [
            "Accuracy Sigmoid Kernel: 0.176\n"
          ]
        }
      ],
      "source": [
        "sig = svm.SVC(kernel='sigmoid', C=1, decision_function_shape='ovo').fit(X_train, y_train)\n",
        "sig_pred = sig.predict(X_test)\n",
        "accuracy_sig = sig.score(X_test, y_test)\n",
        "print(\"Accuracy Sigmoid Kernel:\", accuracy_sig)"
      ]
    },
    {
      "cell_type": "code",
      "execution_count": null,
      "metadata": {},
      "outputs": [],
      "source": []
    }
  ],
  "metadata": {
    "colab": {
      "collapsed_sections": [
        "94Gixu7YXa27"
      ],
      "name": "Copy of 01 » ML Pipeline » CS3244 Machine Learning",
      "provenance": []
    },
    "interpreter": {
      "hash": "aee8b7b246df8f9039afb4144a1f6fd8d2ca17a180786b69acc140d282b71a49"
    },
    "kernelspec": {
      "display_name": "Python 3.9.7 64-bit",
      "name": "python3"
    },
    "language_info": {
      "codemirror_mode": {
        "name": "ipython",
        "version": 3
      },
      "file_extension": ".py",
      "mimetype": "text/x-python",
      "name": "python",
      "nbconvert_exporter": "python",
      "pygments_lexer": "ipython3",
      "version": "3.9.7"
    }
  },
  "nbformat": 4,
  "nbformat_minor": 2
}
