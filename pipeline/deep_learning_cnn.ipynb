{
 "cells": [
  {
   "cell_type": "markdown",
   "metadata": {},
   "source": [
    "# Deep learning with vanilla CNN"
   ]
  },
  {
   "cell_type": "code",
   "execution_count": 1,
   "metadata": {},
   "outputs": [],
   "source": [
    "import matplotlib.pyplot as plt\n",
    "import numpy as np\n",
    "import tensorflow as tf\n",
    "import tensorflow_datasets as tfds\n",
    "from tensorflow import keras\n",
    "from keras import layers"
   ]
  },
  {
   "cell_type": "code",
   "execution_count": 2,
   "metadata": {},
   "outputs": [],
   "source": [
    "data_train = tfds.load(\"deep_weeds\", with_info=False, split='train[20%:100%]').take(800)#.filter(lambda x: x['label'] != 8).take(800)\n",
    "data_valid  = tfds.load(\"deep_weeds\", with_info=False, split='train[0%:20%]').take(200)#.filter(lambda x: x['label'] != 8).take(160)"
   ]
  },
  {
   "cell_type": "code",
   "execution_count": 3,
   "metadata": {},
   "outputs": [],
   "source": [
    "import math\n",
    "\n",
    "def preprocess(dict):\n",
    "  processed_image = dict['image'] / 255\n",
    "  processed_label = dict['label']\n",
    "  return processed_image, processed_label\n",
    "\n",
    "# Use the batch method to prepare batches.\n",
    "train_ds = (data_train\n",
    "                .map(preprocess)\n",
    "                .cache()\n",
    "                .batch(32)\n",
    "                .prefetch(tf.data.experimental.AUTOTUNE))\n",
    "\n",
    "valid_ds = data_valid.map(preprocess).cache().batch(32)"
   ]
  },
  {
   "cell_type": "markdown",
   "metadata": {},
   "source": [
    "## A neural network model with convolutional layers"
   ]
  },
  {
   "cell_type": "code",
   "execution_count": 4,
   "metadata": {},
   "outputs": [],
   "source": [
    "from tensorflow import keras\n",
    "from tensorflow.keras import layers\n",
    "\n",
    "num_classes = 9\n",
    "\n",
    "model = keras.models.Sequential([\n",
    "  layers.Rescaling(1./255, input_shape=(256, 256, 3)),\n",
    "  layers.Conv2D(32, 3, padding='same', activation='relu'),\n",
    "  layers.MaxPooling2D(),\n",
    "  layers.Conv2D(64, 3, padding='same', activation='relu'),\n",
    "  layers.MaxPooling2D(),\n",
    "  layers.Conv2D(128, 3, padding='same', activation='relu'),\n",
    "  layers.MaxPooling2D(),\n",
    "  layers.Flatten(),\n",
    "  layers.Dense(256, activation='relu'),\n",
    "  layers.Dense(num_classes)\n",
    "])\n",
    "\n",
    "model.compile(\n",
    "    optimizer=keras.optimizers.Adam(0.0001),\n",
    "    loss=\"sparse_categorical_crossentropy\",\n",
    "    metrics=[\"accuracy\"],\n",
    ")"
   ]
  },
  {
   "cell_type": "code",
   "execution_count": 5,
   "metadata": {},
   "outputs": [
    {
     "name": "stdout",
     "output_type": "stream",
     "text": [
      "Epoch 1/50\n",
      "25/25 [==============================] - 5s 74ms/step - loss: 5.0481 - accuracy: 0.4825 - val_loss: 5.5950 - val_accuracy: 0.5400\n",
      "Epoch 2/50\n",
      "25/25 [==============================] - 1s 58ms/step - loss: 2.9984 - accuracy: 0.1488 - val_loss: 2.1972 - val_accuracy: 0.0550\n",
      "Epoch 3/50\n",
      "25/25 [==============================] - 1s 57ms/step - loss: 2.1972 - accuracy: 0.0662 - val_loss: 2.1972 - val_accuracy: 0.0550\n",
      "Epoch 4/50\n",
      "25/25 [==============================] - 1s 57ms/step - loss: 2.1972 - accuracy: 0.0662 - val_loss: 2.1972 - val_accuracy: 0.0550\n",
      "Epoch 5/50\n",
      "25/25 [==============================] - 1s 57ms/step - loss: 2.1972 - accuracy: 0.0662 - val_loss: 2.1972 - val_accuracy: 0.0550\n",
      "Epoch 6/50\n",
      "25/25 [==============================] - 1s 58ms/step - loss: 2.1972 - accuracy: 0.0662 - val_loss: 2.1972 - val_accuracy: 0.0550\n",
      "Epoch 7/50\n",
      "25/25 [==============================] - 1s 58ms/step - loss: 2.1972 - accuracy: 0.0662 - val_loss: 2.1972 - val_accuracy: 0.0550\n",
      "Epoch 8/50\n",
      "25/25 [==============================] - 1s 58ms/step - loss: 2.1972 - accuracy: 0.0662 - val_loss: 2.1972 - val_accuracy: 0.0550\n",
      "Epoch 9/50\n",
      "25/25 [==============================] - 1s 58ms/step - loss: 2.1972 - accuracy: 0.0662 - val_loss: 2.1972 - val_accuracy: 0.0550\n",
      "Epoch 10/50\n",
      "25/25 [==============================] - 1s 58ms/step - loss: 2.1972 - accuracy: 0.0662 - val_loss: 2.1972 - val_accuracy: 0.0550\n",
      "Epoch 11/50\n",
      "25/25 [==============================] - 1s 58ms/step - loss: 2.1972 - accuracy: 0.0662 - val_loss: 2.1972 - val_accuracy: 0.0550\n",
      "Epoch 12/50\n",
      "25/25 [==============================] - 1s 57ms/step - loss: 2.1972 - accuracy: 0.0662 - val_loss: 2.1972 - val_accuracy: 0.0550\n",
      "Epoch 13/50\n",
      "25/25 [==============================] - 1s 57ms/step - loss: 2.1972 - accuracy: 0.0662 - val_loss: 2.1972 - val_accuracy: 0.0550\n",
      "Epoch 14/50\n",
      "25/25 [==============================] - 1s 57ms/step - loss: 2.1972 - accuracy: 0.0662 - val_loss: 2.1972 - val_accuracy: 0.0550\n",
      "Epoch 15/50\n",
      "25/25 [==============================] - 1s 57ms/step - loss: 2.1972 - accuracy: 0.0662 - val_loss: 2.1972 - val_accuracy: 0.0550\n",
      "Epoch 16/50\n",
      "25/25 [==============================] - 1s 57ms/step - loss: 2.1972 - accuracy: 0.0662 - val_loss: 2.1972 - val_accuracy: 0.0550\n",
      "Epoch 17/50\n",
      "25/25 [==============================] - 1s 58ms/step - loss: 2.1972 - accuracy: 0.0662 - val_loss: 2.1972 - val_accuracy: 0.0550\n",
      "Epoch 18/50\n",
      "25/25 [==============================] - 1s 57ms/step - loss: 2.1972 - accuracy: 0.0662 - val_loss: 2.1972 - val_accuracy: 0.0550\n",
      "Epoch 19/50\n",
      "25/25 [==============================] - 1s 58ms/step - loss: 2.1972 - accuracy: 0.0662 - val_loss: 2.1972 - val_accuracy: 0.0550\n",
      "Epoch 20/50\n",
      "25/25 [==============================] - 1s 57ms/step - loss: 2.1972 - accuracy: 0.0662 - val_loss: 2.1972 - val_accuracy: 0.0550\n",
      "Epoch 21/50\n",
      "25/25 [==============================] - 1s 58ms/step - loss: 2.1972 - accuracy: 0.0662 - val_loss: 2.1972 - val_accuracy: 0.0550\n",
      "Epoch 22/50\n",
      "25/25 [==============================] - 1s 57ms/step - loss: 2.1972 - accuracy: 0.0662 - val_loss: 2.1972 - val_accuracy: 0.0550\n",
      "Epoch 23/50\n",
      "25/25 [==============================] - 1s 57ms/step - loss: 2.1972 - accuracy: 0.0662 - val_loss: 2.1972 - val_accuracy: 0.0550\n",
      "Epoch 24/50\n",
      "25/25 [==============================] - 1s 58ms/step - loss: 2.1972 - accuracy: 0.0662 - val_loss: 2.1972 - val_accuracy: 0.0550\n",
      "Epoch 25/50\n",
      "25/25 [==============================] - 1s 57ms/step - loss: 2.1972 - accuracy: 0.0662 - val_loss: 2.1972 - val_accuracy: 0.0550\n",
      "Epoch 26/50\n",
      "25/25 [==============================] - 1s 57ms/step - loss: 2.1972 - accuracy: 0.0662 - val_loss: 2.1972 - val_accuracy: 0.0550\n",
      "Epoch 27/50\n",
      "25/25 [==============================] - 1s 57ms/step - loss: 2.1972 - accuracy: 0.0662 - val_loss: 2.1972 - val_accuracy: 0.0550\n",
      "Epoch 28/50\n",
      "25/25 [==============================] - 1s 57ms/step - loss: 2.1972 - accuracy: 0.0662 - val_loss: 2.1972 - val_accuracy: 0.0550\n",
      "Epoch 29/50\n",
      "25/25 [==============================] - 1s 57ms/step - loss: 2.1972 - accuracy: 0.0662 - val_loss: 2.1972 - val_accuracy: 0.0550\n",
      "Epoch 30/50\n",
      "25/25 [==============================] - 1s 57ms/step - loss: 2.1972 - accuracy: 0.0662 - val_loss: 2.1972 - val_accuracy: 0.0550\n",
      "Epoch 31/50\n",
      "25/25 [==============================] - 1s 57ms/step - loss: 2.1972 - accuracy: 0.0662 - val_loss: 2.1972 - val_accuracy: 0.0550\n",
      "Epoch 32/50\n",
      "25/25 [==============================] - 1s 57ms/step - loss: 2.1972 - accuracy: 0.0662 - val_loss: 2.1972 - val_accuracy: 0.0550\n",
      "Epoch 33/50\n",
      "25/25 [==============================] - 1s 57ms/step - loss: 2.1972 - accuracy: 0.0662 - val_loss: 2.1972 - val_accuracy: 0.0550\n",
      "Epoch 34/50\n",
      "25/25 [==============================] - 1s 57ms/step - loss: 2.1972 - accuracy: 0.0662 - val_loss: 2.1972 - val_accuracy: 0.0550\n",
      "Epoch 35/50\n",
      "25/25 [==============================] - 1s 56ms/step - loss: 2.1972 - accuracy: 0.0662 - val_loss: 2.1972 - val_accuracy: 0.0550\n",
      "Epoch 36/50\n",
      "25/25 [==============================] - 1s 57ms/step - loss: 2.1972 - accuracy: 0.0662 - val_loss: 2.1972 - val_accuracy: 0.0550\n",
      "Epoch 37/50\n",
      "25/25 [==============================] - 1s 57ms/step - loss: 2.1972 - accuracy: 0.0662 - val_loss: 2.1972 - val_accuracy: 0.0550\n",
      "Epoch 38/50\n",
      "25/25 [==============================] - 1s 57ms/step - loss: 2.1972 - accuracy: 0.0662 - val_loss: 2.1972 - val_accuracy: 0.0550\n",
      "Epoch 39/50\n",
      "25/25 [==============================] - 1s 56ms/step - loss: 2.1972 - accuracy: 0.0662 - val_loss: 2.1972 - val_accuracy: 0.0550\n",
      "Epoch 40/50\n",
      "25/25 [==============================] - 1s 57ms/step - loss: 2.1972 - accuracy: 0.0662 - val_loss: 2.1972 - val_accuracy: 0.0550\n",
      "Epoch 41/50\n",
      "25/25 [==============================] - 1s 57ms/step - loss: 2.1972 - accuracy: 0.0662 - val_loss: 2.1972 - val_accuracy: 0.0550\n",
      "Epoch 42/50\n",
      "25/25 [==============================] - 1s 57ms/step - loss: 2.1972 - accuracy: 0.0662 - val_loss: 2.1972 - val_accuracy: 0.0550\n",
      "Epoch 43/50\n",
      "25/25 [==============================] - 1s 58ms/step - loss: 2.1972 - accuracy: 0.0662 - val_loss: 2.1972 - val_accuracy: 0.0550\n",
      "Epoch 44/50\n",
      "25/25 [==============================] - 1s 60ms/step - loss: 2.1972 - accuracy: 0.0662 - val_loss: 2.1972 - val_accuracy: 0.0550\n",
      "Epoch 45/50\n",
      "25/25 [==============================] - 1s 58ms/step - loss: 2.1972 - accuracy: 0.0662 - val_loss: 2.1972 - val_accuracy: 0.0550\n",
      "Epoch 46/50\n",
      "25/25 [==============================] - 1s 58ms/step - loss: 2.1972 - accuracy: 0.0662 - val_loss: 2.1972 - val_accuracy: 0.0550\n",
      "Epoch 47/50\n",
      "25/25 [==============================] - 1s 59ms/step - loss: 2.1972 - accuracy: 0.0662 - val_loss: 2.1972 - val_accuracy: 0.0550\n",
      "Epoch 48/50\n",
      "25/25 [==============================] - 1s 58ms/step - loss: 2.1972 - accuracy: 0.0662 - val_loss: 2.1972 - val_accuracy: 0.0550\n",
      "Epoch 49/50\n",
      "25/25 [==============================] - 1s 57ms/step - loss: 2.1972 - accuracy: 0.0662 - val_loss: 2.1972 - val_accuracy: 0.0550\n",
      "Epoch 50/50\n",
      "25/25 [==============================] - 1s 57ms/step - loss: 2.1972 - accuracy: 0.0662 - val_loss: 2.1972 - val_accuracy: 0.0550\n"
     ]
    }
   ],
   "source": [
    "log = model.fit(\n",
    "    train_ds, epochs=50, validation_data=valid_ds,\n",
    ")"
   ]
  },
  {
   "cell_type": "code",
   "execution_count": 23,
   "metadata": {},
   "outputs": [
    {
     "data": {
      "image/png": "[encoded data removed]",
      "text/plain": [
       "<Figure size 432x288 with 1 Axes>"
      ]
     },
     "metadata": {
      "needs_background": "light"
     },
     "output_type": "display_data"
    },
    {
     "data": {
      "image/png": "[encoded data removed]",
      "text/plain": [
       "<Figure size 432x288 with 1 Axes>"
      ]
     },
     "metadata": {
      "needs_background": "light"
     },
     "output_type": "display_data"
    }
   ],
   "source": [
    "plt.plot(log.history['accuracy'])\n",
    "plt.plot(log.history['val_accuracy'])\n",
    "plt.title('model accuracy: vanilla CNN')\n",
    "plt.ylabel('accuracy')\n",
    "plt.xlabel('epoch')\n",
    "plt.legend(['train', 'val'], loc='upper left')\n",
    "plt.show()\n",
    "\n",
    "plt.plot(log.history['loss'])\n",
    "plt.plot(log.history['val_loss'])\n",
    "plt.title('model loss: vanilla CNN')\n",
    "plt.ylabel('loss')\n",
    "plt.xlabel('epoch')\n",
    "plt.legend(['train', 'val'], loc='upper left')\n",
    "plt.show()"
   ]
  }
 ],
 "metadata": {
  "interpreter": {
   "hash": "d9ff725623c15d695aa319bbc94ea42e245a1edcf20c6f47c05aed8c0d68e7f4"
  },
  "kernelspec": {
   "display_name": "Python 3.9.7 64-bit",
   "language": "python",
   "name": "python3"
  },
  "language_info": {
   "codemirror_mode": {
    "name": "ipython",
    "version": 3
   },
   "file_extension": ".py",
   "mimetype": "text/x-python",
   "name": "python",
   "nbconvert_exporter": "python",
   "pygments_lexer": "ipython3",
   "version": "3.9.7"
  },
  "orig_nbformat": 4
 },
 "nbformat": 4,
 "nbformat_minor": 2
}
