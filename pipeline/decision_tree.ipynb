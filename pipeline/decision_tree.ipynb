{
 "cells": [
  {
   "cell_type": "markdown",
   "metadata": {},
   "source": [
    "# Import Libraries"
   ]
  },
  {
   "cell_type": "code",
   "execution_count": null,
   "metadata": {},
   "outputs": [],
   "source": [
    "import numpy as np\n",
    "import matplotlib.pyplot as plt\n",
    "import tensorflow_datasets as tfds\n",
    "import tensorflow as tf\n",
    "from cv2 import cv2\n",
    "from skimage import feature\n",
    "from sklearn import neighbors"
   ]
  },
  {
   "cell_type": "markdown",
   "metadata": {},
   "source": [
    "# Retrieve Dataset"
   ]
  },
  {
   "cell_type": "code",
   "execution_count": null,
   "metadata": {},
   "outputs": [],
   "source": [
    "from preprocess import retrieve_dataset, preprocess, to_np\n",
    "\n",
    "(train_ds_raw, test_ds_raw), metadata = retrieve_dataset(should_shuffle_files=True)\n",
    "\n",
    "train_ds = preprocess(train_ds_raw, {\n",
    "  'is_undersample_negative': False,\n",
    "  'reduce_dataset_to': 0,\n",
    "  'is_grayscale': False, \n",
    "  'is_downsample64': False,\n",
    "  'is_downsample128': False, \n",
    "  'is_normalize': False,\n",
    "})\n",
    "\n",
    "test_ds = preprocess(test_ds_raw, {\n",
    "  'is_undersample_negative': False,\n",
    "  'reduce_dataset_to': 0,\n",
    "  'is_grayscale': False, \n",
    "  'is_downsample64': False, \n",
    "  'is_downsample128': False, \n",
    "  'is_normalize': False,\n",
    "})\n",
    "\n",
    "def count_class(counts, batch):\n",
    "    labels = batch[1]\n",
    "    for i in range(9):\n",
    "        cc = tf.cast(labels == i, tf.int32)\n",
    "        counts[i] += tf.reduce_sum(cc)\n",
    "    return counts\n",
    "\n",
    "initial_state = dict((i, 0) for i in range(9))\n",
    "counts = train_ds.reduce(initial_state=initial_state,\n",
    "                         reduce_func=count_class)\n",
    "\n",
    "print(\"Class breakdown for train dataset:\")\n",
    "print([(k, v.numpy()) for k, v in counts.items()])\n",
    "\n",
    "initial_state = dict((i, 0) for i in range(9))\n",
    "counts = test_ds.reduce(initial_state=initial_state,\n",
    "                         reduce_func=count_class)\n",
    "\n",
    "print(\"Class breakdown for test dataset:\")\n",
    "print([(k, v.numpy()) for k, v in counts.items()])"
   ]
  },
  {
   "cell_type": "markdown",
   "metadata": {},
   "source": [
    "# Extract X_train, Y_train, X_test, Y_test"
   ]
  },
  {
   "cell_type": "code",
   "execution_count": null,
   "metadata": {},
   "outputs": [],
   "source": [
    "train_ds_numpy = to_np(train_ds)\n",
    "test_ds_numpy = to_np(test_ds)\n",
    "\n",
    "X_train = [example for example, label in train_ds_numpy]\n",
    "Y_train = [label for example, label in train_ds_numpy]\n",
    "\n",
    "X_test = [example for example, label in test_ds_numpy]\n",
    "Y_test = [label for example, label in test_ds_numpy]"
   ]
  },
  {
   "cell_type": "markdown",
   "metadata": {},
   "source": [
    "# Perform Transfer Learning"
   ]
  },
  {
   "cell_type": "code",
   "execution_count": null,
   "metadata": {},
   "outputs": [],
   "source": [
    "from transfer_learning import init_conv_base, extract_features\n",
    "conv_base = init_conv_base(X_train[0])"
   ]
  },
  {
   "cell_type": "code",
   "execution_count": null,
   "metadata": {},
   "outputs": [],
   "source": [
    "train_features, train_labels = extract_features(conv_base, X_train, Y_train)\n",
    "test_features, test_labels = extract_features(conv_base, X_test, Y_test)"
   ]
  },
  {
   "cell_type": "markdown",
   "metadata": {},
   "source": [
    "# Flatten To Fit Decision Tree"
   ]
  },
  {
   "cell_type": "code",
   "execution_count": null,
   "metadata": {},
   "outputs": [],
   "source": [
    "X_train_flatten = list(map(lambda x: x.flatten(), train_features))\n",
    "Y_train = train_labels\n",
    "X_test_flatten = list(map(lambda x: x.flatten(), test_features))\n",
    "Y_test = test_labels\n",
    "\n",
    "print(f'Number of training instances: {len(X_train_flatten)}')\n",
    "print(f'Number of features: {len(X_train_flatten[0])}')"
   ]
  },
  {
   "cell_type": "markdown",
   "metadata": {},
   "source": [
    "# Find Best Depth Using K-fold Cross Validation"
   ]
  },
  {
   "cell_type": "code",
   "execution_count": null,
   "metadata": {},
   "outputs": [],
   "source": [
    "import importlib\n",
    "import run_algo_with_kfold\n",
    "importlib.reload(run_algo_with_kfold)\n",
    "from run_algo_with_kfold import kfold_cross_validation, train_model, get_precision_scores\n",
    "\n",
    "depths = [3, 4, 5, 6, 7, 8]\n",
    "k = 5\n",
    "\n",
    "accuracies = []\n",
    "\n",
    "for depth in depths:\n",
    "  accuracies.append(kfold_cross_validation(k, X_train_flatten, Y_train, 'decision_tree', {'depth': depth}))\n",
    "\n",
    "highest_accuracy = 0\n",
    "best_depth = 0\n",
    "\n",
    "for idx, accuracy in enumerate(accuracies):\n",
    "  if accuracy > highest_accuracy:\n",
    "    best_depth = depths[idx]\n",
    "    highest_accuracy = accuracy\n",
    "\n",
    "print(f'Best depth: {best_depth}')"
   ]
  },
  {
   "cell_type": "markdown",
   "metadata": {},
   "source": [
    "# Train Final Model"
   ]
  },
  {
   "cell_type": "code",
   "execution_count": null,
   "metadata": {},
   "outputs": [],
   "source": [
    "model = train_model('decision_tree', {'depth': depth}, X_train_flatten, Y_train, True)\n",
    "\n",
    "print(get_precision_scores(model, X_test_flatten, Y_test))"
   ]
  }
 ],
 "metadata": {
  "interpreter": {
   "hash": "aee8b7b246df8f9039afb4144a1f6fd8d2ca17a180786b69acc140d282b71a49"
  },
  "kernelspec": {
   "display_name": "Python 3 (ipykernel)",
   "language": "python",
   "name": "python3"
  },
  "language_info": {
   "codemirror_mode": {
    "name": "ipython",
    "version": 3
   },
   "file_extension": ".py",
   "mimetype": "text/x-python",
   "name": "python",
   "nbconvert_exporter": "python",
   "pygments_lexer": "ipython3",
   "version": "3.9.7"
  }
 },
 "nbformat": 4,
 "nbformat_minor": 2
}
