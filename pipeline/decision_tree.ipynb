{
 "cells": [
  {
   "cell_type": "markdown",
   "metadata": {},
   "source": [
    "# Import Libraries"
   ]
  },
  {
   "cell_type": "code",
   "execution_count": 1,
   "metadata": {},
   "outputs": [],
   "source": [
    "import numpy as np\n",
    "import matplotlib.pyplot as plt\n",
    "import tensorflow_datasets as tfds\n",
    "import tensorflow as tf\n",
    "from cv2 import cv2\n",
    "from skimage import feature\n",
    "from sklearn import neighbors"
   ]
  },
  {
   "cell_type": "markdown",
   "metadata": {},
   "source": [
    "# Retrieve Dataset"
   ]
  },
  {
   "cell_type": "code",
   "execution_count": 2,
   "metadata": {},
   "outputs": [
    {
     "name": "stdout",
     "output_type": "stream",
     "text": [
      "Class breakdown for train dataset:\n",
      "[(0, 38), (1, 33), (2, 27), (3, 33), (4, 35), (5, 43), (6, 26), (7, 35), (8, 30)]\n",
      "Class breakdown for test dataset:\n",
      "[(0, 9), (1, 8), (2, 10), (3, 9), (4, 8), (5, 6), (6, 8), (7, 10), (8, 7)]\n"
     ]
    }
   ],
   "source": [
    "from preprocess import retrieve_dataset, preprocess, to_np\n",
    "\n",
    "(train_ds_raw, test_ds_raw), metadata = retrieve_dataset(should_shuffle_files=True)\n",
    "\n",
    "train_ds = preprocess(train_ds_raw, {\n",
    "  'is_undersample_negative': True,\n",
    "  'reduce_dataset_to': 300,\n",
    "  'is_grayscale': False, \n",
    "  'is_downsample64': False,\n",
    "  'is_downsample128': False, \n",
    "  'is_normalize': False,\n",
    "})\n",
    "\n",
    "test_ds = preprocess(test_ds_raw, {\n",
    "  'is_undersample_negative': True,\n",
    "  'reduce_dataset_to': 75,\n",
    "  'is_grayscale': False, \n",
    "  'is_downsample64': False, \n",
    "  'is_downsample128': False, \n",
    "  'is_normalize': False,\n",
    "})\n",
    "\n",
    "def count_class(counts, batch):\n",
    "    labels = batch[1]\n",
    "    for i in range(9):\n",
    "        cc = tf.cast(labels == i, tf.int32)\n",
    "        counts[i] += tf.reduce_sum(cc)\n",
    "    return counts\n",
    "\n",
    "initial_state = dict((i, 0) for i in range(9))\n",
    "counts = train_ds.reduce(initial_state=initial_state,\n",
    "                         reduce_func=count_class)\n",
    "\n",
    "print(\"Class breakdown for train dataset:\")\n",
    "print([(k, v.numpy()) for k, v in counts.items()])\n",
    "\n",
    "initial_state = dict((i, 0) for i in range(9))\n",
    "counts = test_ds.reduce(initial_state=initial_state,\n",
    "                         reduce_func=count_class)\n",
    "\n",
    "print(\"Class breakdown for test dataset:\")\n",
    "print([(k, v.numpy()) for k, v in counts.items()])"
   ]
  },
  {
   "cell_type": "markdown",
   "metadata": {},
   "source": [
    "# Extract X_train, Y_train, X_test, Y_test"
   ]
  },
  {
   "cell_type": "code",
   "execution_count": 3,
   "metadata": {},
   "outputs": [],
   "source": [
    "train_ds_numpy = to_np(train_ds)\n",
    "test_ds_numpy = to_np(test_ds)\n",
    "\n",
    "X_train = [example for example, label in train_ds_numpy]\n",
    "Y_train = [label for example, label in train_ds_numpy]\n",
    "\n",
    "X_test = [example for example, label in test_ds_numpy]\n",
    "Y_test = [label for example, label in test_ds_numpy]"
   ]
  },
  {
   "cell_type": "markdown",
   "metadata": {},
   "source": [
    "# Perform Transfer Learning"
   ]
  },
  {
   "cell_type": "code",
   "execution_count": 4,
   "metadata": {},
   "outputs": [
    {
     "name": "stdout",
     "output_type": "stream",
     "text": [
      "Model: \"vgg16\"\n",
      "_________________________________________________________________\n",
      "Layer (type)                 Output Shape              Param #   \n",
      "=================================================================\n",
      "input_1 (InputLayer)         [(None, 256, 256, 3)]     0         \n",
      "_________________________________________________________________\n",
      "block1_conv1 (Conv2D)        (None, 256, 256, 64)      1792      \n",
      "_________________________________________________________________\n",
      "block1_conv2 (Conv2D)        (None, 256, 256, 64)      36928     \n",
      "_________________________________________________________________\n",
      "block1_pool (MaxPooling2D)   (None, 128, 128, 64)      0         \n",
      "_________________________________________________________________\n",
      "block2_conv1 (Conv2D)        (None, 128, 128, 128)     73856     \n",
      "_________________________________________________________________\n",
      "block2_conv2 (Conv2D)        (None, 128, 128, 128)     147584    \n",
      "_________________________________________________________________\n",
      "block2_pool (MaxPooling2D)   (None, 64, 64, 128)       0         \n",
      "_________________________________________________________________\n",
      "block3_conv1 (Conv2D)        (None, 64, 64, 256)       295168    \n",
      "_________________________________________________________________\n",
      "block3_conv2 (Conv2D)        (None, 64, 64, 256)       590080    \n",
      "_________________________________________________________________\n",
      "block3_conv3 (Conv2D)        (None, 64, 64, 256)       590080    \n",
      "_________________________________________________________________\n",
      "block3_pool (MaxPooling2D)   (None, 32, 32, 256)       0         \n",
      "_________________________________________________________________\n",
      "block4_conv1 (Conv2D)        (None, 32, 32, 512)       1180160   \n",
      "_________________________________________________________________\n",
      "block4_conv2 (Conv2D)        (None, 32, 32, 512)       2359808   \n",
      "_________________________________________________________________\n",
      "block4_conv3 (Conv2D)        (None, 32, 32, 512)       2359808   \n",
      "_________________________________________________________________\n",
      "block4_pool (MaxPooling2D)   (None, 16, 16, 512)       0         \n",
      "_________________________________________________________________\n",
      "block5_conv1 (Conv2D)        (None, 16, 16, 512)       2359808   \n",
      "_________________________________________________________________\n",
      "block5_conv2 (Conv2D)        (None, 16, 16, 512)       2359808   \n",
      "_________________________________________________________________\n",
      "block5_conv3 (Conv2D)        (None, 16, 16, 512)       2359808   \n",
      "_________________________________________________________________\n",
      "block5_pool (MaxPooling2D)   (None, 8, 8, 512)         0         \n",
      "=================================================================\n",
      "Total params: 14,714,688\n",
      "Trainable params: 14,714,688\n",
      "Non-trainable params: 0\n",
      "_________________________________________________________________\n"
     ]
    }
   ],
   "source": [
    "from transfer_learning import init_conv_base, extract_features\n",
    "conv_base = init_conv_base(X_train[0])"
   ]
  },
  {
   "cell_type": "code",
   "execution_count": 5,
   "metadata": {},
   "outputs": [],
   "source": [
    "train_features, train_labels = extract_features(conv_base, X_train, Y_train)\n",
    "test_features, test_labels = extract_features(conv_base, X_test, Y_test)"
   ]
  },
  {
   "cell_type": "markdown",
   "metadata": {},
   "source": [
    "# Flatten To Fit Decision Tree"
   ]
  },
  {
   "cell_type": "code",
   "execution_count": 6,
   "metadata": {},
   "outputs": [
    {
     "name": "stdout",
     "output_type": "stream",
     "text": [
      "Number of training instances: 300\n",
      "Number of features: 32768\n"
     ]
    }
   ],
   "source": [
    "X_train_flatten = list(map(lambda x: x.flatten(), train_features))\n",
    "Y_train = train_labels\n",
    "X_test_flatten = list(map(lambda x: x.flatten(), test_features))\n",
    "Y_test = test_labels\n",
    "\n",
    "print(f'Number of training instances: {len(X_train_flatten)}')\n",
    "print(f'Number of features: {len(X_train_flatten[0])}')"
   ]
  },
  {
   "cell_type": "markdown",
   "metadata": {},
   "source": [
    "# Train Decision Tree Model With K-Fold Cross Validation"
   ]
  },
  {
   "cell_type": "code",
   "execution_count": 13,
   "metadata": {},
   "outputs": [
    {
     "name": "stdout",
     "output_type": "stream",
     "text": [
      "Running 5-fold cross validation for decision_tree with {'depth': 5}\n",
      "Split accuracy: 0.16666666666666666\n",
      "Split accuracy: 0.21666666666666667\n",
      "Split accuracy: 0.21666666666666667\n",
      "Split accuracy: 0.15\n",
      "Split accuracy: 0.35\n",
      "Completed 5-fold cross validation for decision_tree with {'depth': 5}\n",
      "Obtained average accuracy of: 0.22000000000000003\n",
      "\n",
      "Running 5-fold cross validation for decision_tree with {'depth': 6}\n",
      "Split accuracy: 0.18333333333333332\n",
      "Split accuracy: 0.2\n",
      "Split accuracy: 0.23333333333333334\n",
      "Split accuracy: 0.21666666666666667\n",
      "Split accuracy: 0.36666666666666664\n",
      "Completed 5-fold cross validation for decision_tree with {'depth': 6}\n",
      "Obtained average accuracy of: 0.24\n",
      "\n",
      "Running 5-fold cross validation for decision_tree with {'depth': 7}\n",
      "Split accuracy: 0.21666666666666667\n",
      "Split accuracy: 0.21666666666666667\n",
      "Split accuracy: 0.3\n",
      "Split accuracy: 0.2\n",
      "Split accuracy: 0.31666666666666665\n",
      "Completed 5-fold cross validation for decision_tree with {'depth': 7}\n",
      "Obtained average accuracy of: 0.25\n",
      "\n",
      "Running 5-fold cross validation for decision_tree with {'depth': 8}\n",
      "Split accuracy: 0.26666666666666666\n",
      "Split accuracy: 0.21666666666666667\n",
      "Split accuracy: 0.23333333333333334\n",
      "Split accuracy: 0.16666666666666666\n",
      "Split accuracy: 0.31666666666666665\n",
      "Completed 5-fold cross validation for decision_tree with {'depth': 8}\n",
      "Obtained average accuracy of: 0.24\n",
      "\n",
      "Running 5-fold cross validation for decision_tree with {'depth': 9}\n",
      "Split accuracy: 0.16666666666666666\n",
      "Split accuracy: 0.16666666666666666\n",
      "Split accuracy: 0.23333333333333334\n",
      "Split accuracy: 0.18333333333333332\n",
      "Split accuracy: 0.26666666666666666\n",
      "Completed 5-fold cross validation for decision_tree with {'depth': 9}\n",
      "Obtained average accuracy of: 0.2033333333333333\n",
      "\n",
      "Running 5-fold cross validation for decision_tree with {'depth': 10}\n",
      "Split accuracy: 0.16666666666666666\n",
      "Split accuracy: 0.2\n",
      "Split accuracy: 0.25\n",
      "Split accuracy: 0.23333333333333334\n",
      "Split accuracy: 0.2833333333333333\n",
      "Completed 5-fold cross validation for decision_tree with {'depth': 10}\n",
      "Obtained average accuracy of: 0.22666666666666666\n",
      "\n"
     ]
    }
   ],
   "source": [
    "import importlib\n",
    "import run_algo_with_kfold\n",
    "importlib.reload(run_algo_with_kfold)\n",
    "from run_algo_with_kfold import kfold_cross_validation\n",
    "\n",
    "depths = [5, 6, 7, 8, 9, 10]\n",
    "k = 5\n",
    "clfs_and_accuracies = []\n",
    "\n",
    "for depth in depths:\n",
    "  clf_and_accuracy = kfold_cross_validation(k, X_train_flatten, Y_train, 'decision_tree', {'depth': depth})\n",
    "  clfs_and_accuracies.append(clf_and_accuracy)"
   ]
  },
  {
   "cell_type": "code",
   "execution_count": 14,
   "metadata": {},
   "outputs": [
    {
     "name": "stdout",
     "output_type": "stream",
     "text": [
      "[(DecisionTreeClassifier(max_depth=5), 0.35), (DecisionTreeClassifier(max_depth=6), 0.36666666666666664), (DecisionTreeClassifier(max_depth=7), 0.31666666666666665), (DecisionTreeClassifier(max_depth=8), 0.31666666666666665), (DecisionTreeClassifier(max_depth=9), 0.26666666666666666), (DecisionTreeClassifier(max_depth=10), 0.2833333333333333)]\n"
     ]
    }
   ],
   "source": [
    "print(clfs_and_accuracies)"
   ]
  },
  {
   "cell_type": "code",
   "execution_count": 32,
   "metadata": {},
   "outputs": [],
   "source": [
    "import importlib\n",
    "import run_algo_with_kfold\n",
    "importlib.reload(run_algo_with_kfold)\n",
    "from run_algo_with_kfold import get_precision_scores"
   ]
  },
  {
   "cell_type": "code",
   "execution_count": 33,
   "metadata": {},
   "outputs": [
    {
     "name": "stdout",
     "output_type": "stream",
     "text": [
      "{'accuracy': 0.21333333333333335, 'macro_avg': 0.1785014005602241, 'f1_score_macro': 0.17951045342686212, 'micro_avg': 0.21333333333333335, 'f1_score_micro': 0.21333333333333337, 'roc_auc_score': 0.5489881224448876}\n",
      "{'accuracy': 0.21333333333333335, 'macro_avg': 0.1799583132916466, 'f1_score_macro': 0.18412347886032093, 'micro_avg': 0.21333333333333335, 'f1_score_micro': 0.21333333333333337, 'roc_auc_score': 0.5486563005926786}\n",
      "{'accuracy': 0.18666666666666668, 'macro_avg': 0.2193241943241943, 'f1_score_macro': 0.192584448956998, 'micro_avg': 0.18666666666666668, 'f1_score_micro': 0.18666666666666668, 'roc_auc_score': 0.5577652654453659}\n",
      "{'accuracy': 0.14666666666666667, 'macro_avg': 0.138985088985089, 'f1_score_macro': 0.14059825747805288, 'micro_avg': 0.14666666666666667, 'f1_score_micro': 0.14666666666666667, 'roc_auc_score': 0.5179670214295322}\n",
      "{'accuracy': 0.2, 'macro_avg': 0.19706589706589706, 'f1_score_macro': 0.18174498609281217, 'micro_avg': 0.2, 'f1_score_micro': 0.20000000000000004, 'roc_auc_score': 0.5478314189517457}\n",
      "{'accuracy': 0.16, 'macro_avg': 0.1561965811965812, 'f1_score_macro': 0.1572504197218156, 'micro_avg': 0.16, 'f1_score_micro': 0.16, 'roc_auc_score': 0.5395323129319587}\n"
     ]
    }
   ],
   "source": [
    "for clf_and_accuracy in clfs_and_accuracies:\n",
    "  (clf, accuracy) = clf_and_accuracy\n",
    "  print(get_precision_scores(clf, X_test_flatten, Y_test))"
   ]
  },
  {
   "cell_type": "code",
   "execution_count": 1,
   "metadata": {},
   "outputs": [
    {
     "ename": "NameError",
     "evalue": "name 'clfs_and_accuracies' is not defined",
     "output_type": "error",
     "traceback": [
      "\u001b[1;31m---------------------------------------------------------------------------\u001b[0m",
      "\u001b[1;31mNameError\u001b[0m                                 Traceback (most recent call last)",
      "\u001b[1;32m~\\AppData\\Local\\Temp/ipykernel_17696/352556321.py\u001b[0m in \u001b[0;36m<module>\u001b[1;34m\u001b[0m\n\u001b[0;32m      7\u001b[0m \u001b[0mtprs\u001b[0m \u001b[1;33m=\u001b[0m \u001b[1;33m[\u001b[0m\u001b[1;33m]\u001b[0m\u001b[1;33m\u001b[0m\u001b[1;33m\u001b[0m\u001b[0m\n\u001b[0;32m      8\u001b[0m \u001b[0mroc_aucs\u001b[0m \u001b[1;33m=\u001b[0m \u001b[1;33m[\u001b[0m\u001b[1;33m]\u001b[0m\u001b[1;33m\u001b[0m\u001b[1;33m\u001b[0m\u001b[0m\n\u001b[1;32m----> 9\u001b[1;33m \u001b[1;32mfor\u001b[0m \u001b[0mclf_and_accuracy\u001b[0m \u001b[1;32min\u001b[0m \u001b[0mclfs_and_accuracies\u001b[0m\u001b[1;33m:\u001b[0m\u001b[1;33m\u001b[0m\u001b[1;33m\u001b[0m\u001b[0m\n\u001b[0m\u001b[0;32m     10\u001b[0m   \u001b[1;33m(\u001b[0m\u001b[0mfpr\u001b[0m\u001b[1;33m,\u001b[0m \u001b[0mtpr\u001b[0m\u001b[1;33m,\u001b[0m \u001b[0mroc_auc\u001b[0m\u001b[1;33m)\u001b[0m \u001b[1;33m=\u001b[0m \u001b[0mget_roc_auc_curve\u001b[0m\u001b[1;33m(\u001b[0m\u001b[0mclf\u001b[0m\u001b[1;33m,\u001b[0m \u001b[0mX_train_flatten\u001b[0m\u001b[1;33m,\u001b[0m \u001b[0my_train\u001b[0m\u001b[1;33m,\u001b[0m \u001b[0mX_test_flatten\u001b[0m\u001b[1;33m,\u001b[0m \u001b[0my_test\u001b[0m\u001b[1;33m,\u001b[0m \u001b[1;33m{\u001b[0m\u001b[1;34m'is_svm'\u001b[0m\u001b[1;33m:\u001b[0m \u001b[1;32mTrue\u001b[0m\u001b[1;33m}\u001b[0m\u001b[1;33m)\u001b[0m\u001b[1;33m\u001b[0m\u001b[1;33m\u001b[0m\u001b[0m\n\u001b[0;32m     11\u001b[0m   \u001b[0mfprs\u001b[0m\u001b[1;33m.\u001b[0m\u001b[0mappend\u001b[0m\u001b[1;33m(\u001b[0m\u001b[0mfpr\u001b[0m\u001b[1;33m)\u001b[0m\u001b[1;33m\u001b[0m\u001b[1;33m\u001b[0m\u001b[0m\n",
      "\u001b[1;31mNameError\u001b[0m: name 'clfs_and_accuracies' is not defined"
     ]
    }
   ],
   "source": [
    "import importlib\n",
    "import run_algo_with_kfold\n",
    "importlib.reload(run_algo_with_kfold)\n",
    "from run_algo_with_kfold import get_roc_auc_curve\n",
    "\n",
    "fprs = []\n",
    "tprs = []\n",
    "roc_aucs = []\n",
    "for clf_and_accuracy in clfs_and_accuracies:\n",
    "  (fpr, tpr, roc_auc) = get_roc_auc_curve(clf, X_train_flatten, y_train, X_test_flatten, y_test, {'is_svm': False})\n",
    "  fprs.append(fpr)\n",
    "  tprs.append(tpr)\n",
    "  roc_aucs.append(roc_auc)"
   ]
  },
  {
   "cell_type": "code",
   "execution_count": null,
   "metadata": {},
   "outputs": [],
   "source": [
    "import importlib\n",
    "import run_algo_with_kfold\n",
    "importlib.reload(run_algo_with_kfold)\n",
    "from run_algo_with_kfold import visualize_roc_auc_curve\n",
    "for depth, fpr, tpr, roc_auc in zip(depths, fprs, tprs, roc_aucs):\n",
    "  title = f'ROC curve for depth = {str(depth)}'\n",
    "  visualize_roc_auc_curve(title, fpr, tpr, roc_auc, len(np.unique(y_test)))"
   ]
  }
 ],
 "metadata": {
  "interpreter": {
   "hash": "aee8b7b246df8f9039afb4144a1f6fd8d2ca17a180786b69acc140d282b71a49"
  },
  "kernelspec": {
   "display_name": "Python 3 (ipykernel)",
   "language": "python",
   "name": "python3"
  },
  "language_info": {
   "codemirror_mode": {
    "name": "ipython",
    "version": 3
   },
   "file_extension": ".py",
   "mimetype": "text/x-python",
   "name": "python",
   "nbconvert_exporter": "python",
   "pygments_lexer": "ipython3",
   "version": "3.7.10"
  }
 },
 "nbformat": 4,
 "nbformat_minor": 2
}
