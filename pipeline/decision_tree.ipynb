{
 "cells": [
  {
   "cell_type": "markdown",
   "metadata": {},
   "source": [
    "# Import Libraries"
   ]
  },
  {
   "cell_type": "code",
   "execution_count": 2,
   "metadata": {},
   "outputs": [],
   "source": [
    "import numpy as np\n",
    "import matplotlib.pyplot as plt\n",
    "import tensorflow_datasets as tfds\n",
    "import tensorflow as tf\n",
    "from cv2 import cv2\n",
    "from skimage import feature\n",
    "from sklearn import neighbors"
   ]
  },
  {
   "cell_type": "markdown",
   "metadata": {},
   "source": [
    "# Retrieve Dataset"
   ]
  },
  {
   "cell_type": "code",
   "execution_count": 3,
   "metadata": {},
   "outputs": [
    {
     "name": "stdout",
     "output_type": "stream",
     "text": [
      "Class breakdown for train dataset:\n",
      "[(0, 891), (1, 853), (2, 818), (3, 819), (4, 845), (5, 809), (6, 856), (7, 781), (8, 834)]\n",
      "Class breakdown for test dataset:\n",
      "[(0, 234), (1, 211), (2, 213), (3, 203), (4, 217), (5, 200), (6, 218), (7, 235), (8, 216)]\n"
     ]
    }
   ],
   "source": [
    "from preprocess import retrieve_dataset, preprocess, to_np\n",
    "\n",
    "(train_ds_raw, test_ds_raw), metadata = retrieve_dataset(should_shuffle_files=True)\n",
    "\n",
    "train_ds = preprocess(train_ds_raw, {\n",
    "  'is_undersample_negative': True,\n",
    "  'reduce_dataset_to': 0,\n",
    "  'is_grayscale': False, \n",
    "  'is_downsample64': False,\n",
    "  'is_downsample128': False, \n",
    "  'is_normalize': False,\n",
    "})\n",
    "\n",
    "test_ds = preprocess(test_ds_raw, {\n",
    "  'is_undersample_negative': True,\n",
    "  'reduce_dataset_to': 0,\n",
    "  'is_grayscale': False, \n",
    "  'is_downsample64': False, \n",
    "  'is_downsample128': False, \n",
    "  'is_normalize': False,\n",
    "})\n",
    "\n",
    "def count_class(counts, batch):\n",
    "    labels = batch[1]\n",
    "    for i in range(9):\n",
    "        cc = tf.cast(labels == i, tf.int32)\n",
    "        counts[i] += tf.reduce_sum(cc)\n",
    "    return counts\n",
    "\n",
    "initial_state = dict((i, 0) for i in range(9))\n",
    "counts = train_ds.reduce(initial_state=initial_state,\n",
    "                         reduce_func=count_class)\n",
    "\n",
    "print(\"Class breakdown for train dataset:\")\n",
    "print([(k, v.numpy()) for k, v in counts.items()])\n",
    "\n",
    "initial_state = dict((i, 0) for i in range(9))\n",
    "counts = test_ds.reduce(initial_state=initial_state,\n",
    "                         reduce_func=count_class)\n",
    "\n",
    "print(\"Class breakdown for test dataset:\")\n",
    "print([(k, v.numpy()) for k, v in counts.items()])"
   ]
  },
  {
   "cell_type": "markdown",
   "metadata": {},
   "source": [
    "# Extract X_train, Y_train, X_test, Y_test"
   ]
  },
  {
   "cell_type": "code",
   "execution_count": null,
   "metadata": {},
   "outputs": [],
   "source": [
    "train_ds_numpy = to_np(train_ds)\n",
    "test_ds_numpy = to_np(test_ds)\n",
    "\n",
    "X_train = [example for example, label in train_ds_numpy]\n",
    "Y_train = [label for example, label in train_ds_numpy]\n",
    "\n",
    "X_test = [example for example, label in test_ds_numpy]\n",
    "Y_test = [label for example, label in test_ds_numpy]"
   ]
  },
  {
   "cell_type": "markdown",
   "metadata": {},
   "source": [
    "# Perform Transfer Learning"
   ]
  },
  {
   "cell_type": "code",
   "execution_count": null,
   "metadata": {},
   "outputs": [],
   "source": [
    "from transfer_learning import init_conv_base, extract_features\n",
    "conv_base = init_conv_base(X_train[0])"
   ]
  },
  {
   "cell_type": "code",
   "execution_count": null,
   "metadata": {},
   "outputs": [],
   "source": [
    "train_features, train_labels = extract_features(conv_base, X_train, Y_train)\n",
    "test_features, test_labels = extract_features(conv_base, X_test, Y_test)"
   ]
  },
  {
   "cell_type": "markdown",
   "metadata": {},
   "source": [
    "# Flatten To Fit Decision Tree"
   ]
  },
  {
   "cell_type": "code",
   "execution_count": null,
   "metadata": {},
   "outputs": [],
   "source": [
    "X_train_flatten = list(map(lambda x: x.flatten(), train_features))\n",
    "Y_train = train_labels\n",
    "X_test_flatten = list(map(lambda x: x.flatten(), test_features))\n",
    "Y_test = test_labels\n",
    "\n",
    "print(f'Number of training instances: {len(X_train_flatten)}')\n",
    "print(f'Number of features: {len(X_train_flatten[0])}')"
   ]
  },
  {
   "cell_type": "markdown",
   "metadata": {},
   "source": [
    "# Train Decision Tree Model With K-Fold Cross Validation"
   ]
  },
  {
   "cell_type": "code",
   "execution_count": 7,
   "metadata": {},
   "outputs": [
    {
     "ename": "NameError",
     "evalue": "name 'X_train_flatten' is not defined",
     "output_type": "error",
     "traceback": [
      "\u001b[0;31m---------------------------------------------------------------------------\u001b[0m",
      "\u001b[0;31mNameError\u001b[0m                                 Traceback (most recent call last)",
      "\u001b[0;32m/var/folders/9z/jt0jk97d40bfd00yfgq3bk5h0000gn/T/ipykernel_53660/335740751.py\u001b[0m in \u001b[0;36m<module>\u001b[0;34m\u001b[0m\n\u001b[1;32m      9\u001b[0m \u001b[0;34m\u001b[0m\u001b[0m\n\u001b[1;32m     10\u001b[0m \u001b[0;32mfor\u001b[0m \u001b[0mdepth\u001b[0m \u001b[0;32min\u001b[0m \u001b[0mdepths\u001b[0m\u001b[0;34m:\u001b[0m\u001b[0;34m\u001b[0m\u001b[0;34m\u001b[0m\u001b[0m\n\u001b[0;32m---> 11\u001b[0;31m   \u001b[0mfinal_accuracy\u001b[0m \u001b[0;34m=\u001b[0m \u001b[0mkfold_cross_validation\u001b[0m\u001b[0;34m(\u001b[0m\u001b[0mk\u001b[0m\u001b[0;34m,\u001b[0m \u001b[0mX_train_flatten\u001b[0m\u001b[0;34m,\u001b[0m \u001b[0mY_train\u001b[0m\u001b[0;34m,\u001b[0m \u001b[0;34m'decision_tree'\u001b[0m\u001b[0;34m,\u001b[0m \u001b[0;34m{\u001b[0m\u001b[0;34m'depth'\u001b[0m\u001b[0;34m:\u001b[0m \u001b[0mdepth\u001b[0m\u001b[0;34m}\u001b[0m\u001b[0;34m)\u001b[0m\u001b[0;34m\u001b[0m\u001b[0;34m\u001b[0m\u001b[0m\n\u001b[0m\u001b[1;32m     12\u001b[0m   \u001b[0mfinal_accuracies\u001b[0m\u001b[0;34m.\u001b[0m\u001b[0mappend\u001b[0m\u001b[0;34m(\u001b[0m\u001b[0mfinal_accuracy\u001b[0m\u001b[0;34m)\u001b[0m\u001b[0;34m\u001b[0m\u001b[0;34m\u001b[0m\u001b[0m\n",
      "\u001b[0;31mNameError\u001b[0m: name 'X_train_flatten' is not defined"
     ]
    }
   ],
   "source": [
    "import importlib\n",
    "import run_algo_with_kfold\n",
    "importlib.reload(run_algo_with_kfold)\n",
    "from run_algo_with_kfold import kfold_cross_validation\n",
    "\n",
    "depths = [5, 6, 7, 8, 9, 10]\n",
    "k = 5\n",
    "final_accuracies = []\n",
    "\n",
    "for depth in depths:\n",
    "  final_accuracy = kfold_cross_validation(k, X_train_flatten, Y_train, 'decision_tree', {'depth': depth})\n",
    "  final_accuracies.append(final_accuracy)"
   ]
  },
  {
   "cell_type": "code",
   "execution_count": 6,
   "metadata": {},
   "outputs": [
    {
     "ename": "NameError",
     "evalue": "name 'final_accuracies' is not defined",
     "output_type": "error",
     "traceback": [
      "\u001b[0;31m---------------------------------------------------------------------------\u001b[0m",
      "\u001b[0;31mNameError\u001b[0m                                 Traceback (most recent call last)",
      "\u001b[0;32m/var/folders/9z/jt0jk97d40bfd00yfgq3bk5h0000gn/T/ipykernel_53660/1417458151.py\u001b[0m in \u001b[0;36m<module>\u001b[0;34m\u001b[0m\n\u001b[0;32m----> 1\u001b[0;31m \u001b[0mprint\u001b[0m\u001b[0;34m(\u001b[0m\u001b[0mfinal_accuracies\u001b[0m\u001b[0;34m)\u001b[0m\u001b[0;34m\u001b[0m\u001b[0;34m\u001b[0m\u001b[0m\n\u001b[0m",
      "\u001b[0;31mNameError\u001b[0m: name 'final_accuracies' is not defined"
     ]
    }
   ],
   "source": [
    "print(final_accuracies)"
   ]
  }
 ],
 "metadata": {
  "interpreter": {
   "hash": "aee8b7b246df8f9039afb4144a1f6fd8d2ca17a180786b69acc140d282b71a49"
  },
  "kernelspec": {
   "display_name": "Python 3 (ipykernel)",
   "language": "python",
   "name": "python3"
  },
  "language_info": {
   "codemirror_mode": {
    "name": "ipython",
    "version": 3
   },
   "file_extension": ".py",
   "mimetype": "text/x-python",
   "name": "python",
   "nbconvert_exporter": "python",
   "pygments_lexer": "ipython3",
   "version": "3.9.7"
  }
 },
 "nbformat": 4,
 "nbformat_minor": 2
}
